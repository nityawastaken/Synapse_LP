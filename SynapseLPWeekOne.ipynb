{
  "nbformat": 4,
  "nbformat_minor": 0,
  "metadata": {
    "colab": {
      "provenance": [],
      "include_colab_link": true
    },
    "kernelspec": {
      "name": "python3",
      "display_name": "Python 3"
    },
    "language_info": {
      "name": "python"
    }
  },
  "cells": [
    {
      "cell_type": "markdown",
      "metadata": {
        "id": "view-in-github",
        "colab_type": "text"
      },
      "source": [
        "<a href=\"https://colab.research.google.com/github/nityawastaken/Synapse_LP/blob/week-1/SynapseLPWeekOne.ipynb\" target=\"_parent\"><img src=\"https://colab.research.google.com/assets/colab-badge.svg\" alt=\"Open In Colab\"/></a>"
      ]
    },
    {
      "cell_type": "markdown",
      "source": [
        "#**Synapse Week One**\n",
        "\n",
        "![image.png](data:image/png;base64,iVBORw0KGgoAAAANSUhEUgAAAGsAAAB0CAYAAACCP8xCAAAAAXNSR0IArs4c6QAAAARnQU1BAACxjwv8YQUAAAAJcEhZcwAADsMAAA7DAcdvqGQAAEbeSURBVHhe7b1psCTXeSV2KpfKrP3V27fe90aju7GvBCluIkFxhpImNEMtI8d4bI9DY8dEOOxwhP/YP+wI2/PDjrB/TITtibE1CmmGlihSIkWCBAGI2JcG0I1Go/fl9duX2quycimfc/M9AqJI4kEACMDA7a5XVVmZN+/9lvOd7+bNm5m9e/cO8En5SBRr8/2T8hEonyjrI1Q+UdZHqHzMlTVARq+BBWtg850vbc4k5rcPW/mYKyuDRC8rRpIJMTCviNtjvj5R1oesUCGZ2CgotkPEVBqSLKy4SC9zN/f58JSPtbIEf07swo6loBy/e1ScRCLPEhR+uMrH27MUm+hVilsWncwa6HuA2GljYAkOP1zlY62sxHYQF8qIHNtAoZQlkoEkT4R0Nvf68JSPhbIGg8HfeCVJCnHFyh5Ud3wNlYn7CHols80iBIp2fBjLBzbcZCjyT4RiG1aWwlGEHi3dizKIM9xOqMpHEd8H6LoZuDxkQOvPxg4a/FKOLCRlB7Y3DTtrIXRciruAjp1Fzy2hGNvo+EU4NEvLzsC2GaNsxibbZ6wCyl0Xjt1G1FpEdPWH6PdrCHmeBPI0/hbniZbc0QrZBqqSeCnI/CDKB6asJCPVEHJYnEFIAQyoHAtRJotc0qBCPFAPhKcYbkzF0eYTKhG5YVjju4AoRGbuJSrAgj1yGI2hI1gbPoLAH6dgXVN3hgIfZHw4SZtnoUcZ5WfZa0IcIc+LutjZWIB949vIIsBQaT9W23Po1a/C7vSpMLbJ7pLa8xAaiJ1Q2QmhU6zxAyh2tVr9bzc//1KLUZBhXSryKv2l1XJbz8qDIuFnCph/I3pBPLIbye570Dz+u4imj6D0xo+QqYwgLk4hOvRFWM3rqCw8j3x7nuGGtNvJUTE51tozCpKiaAGwBwFfUgQNwLLhR32U6lfQ2jiFjd4S8vlZlIozyFDJQVSnsmVIWdPCNGEW8fhgoscHpqzApjDZaRchv9GC6Q2x8QbKmR4RWg4JQBbu6B70jz6M9aP/AM29X0CfnlV95Y+Qy/Sw48DtWF2aQ233r6B28FdJFqZR6iyisPQ08vVr8Aid/ZxPRfnGk1R36l06j8gEFUGIK/TWkTQukAgOELbqiAY9eJUhFEs7EYeEYCrNSaRsmlOqMf35pZcPTFk2Y5ODPq02ofCoHgrQonDlcQOCEsZ2Ijj5D7F86++hPns3wsIUt/sYvfYIcpf/GmN3349SqYhk4XWqNoe12QfRrexHe/wEouHdKLZvIHftMXit63CdLGOaj75NEmF5FLoBVQpe+Ma4JUhdOUeI65kwGvdX0O3W2K4+RkZOwMoOoxet0KnYMmKi4tYHUT4wZSlGRRScIE+C82jNMbdZ1WnggX+K5Tv/Y2yM3AGHcNYnrA2sDIZq5zD06h9hfHIE5R1HULE6WAs8bNS6wMh+9L08Yn8MveIuNGbuQX/6OEpLp+G98S1kOmtw/AIJSIF1+VQUDcJ4soN8P4S38QyimLTCCUheXFgkOEFQQ71zCcXiXowOn0QnZDwL6Y00qg+ivM/KUqdIl6kOm4og7vD7m3ivYVSb27K0+mj8CDp3/VPM3/NfYq16K72AuQ7zoMhi3GGC6gVr8C8+iWr7NUzf8inGlhxhc4J11tGfO4PO6DH0SlM0gobxnITK7Xtl1Hc/jOzMLXBbNzF8/RGMtK4g43oI6c0umSYBmMrpoNyZR9iuE5QJmYJIKzCkIhNl0elcYfxaw9DYrRjkRjAIW0gY9zLqk+mP4FGUPyVM5vtb/r5X5X1WlmWaqhjh0mopSTI+x3hSTEU45XGEO+5E69bfQv3Y11EbPUEhSzk90uUM9wsoBHaYUFldfAUjZ/8dpvYeRmV6PzJekQoN4JKKd+avkqYX0Ro9zrOJCeqsfBHmJMRObgd6O25HQO+z2msozj0Lv3GF8BhjQHqv/Yq9AMnGeYqb75agmcdTWRaDlE3lR/0mOq0N5HgerzpL+k9jIWwOIjJLngOZNpVX4HtKijQ6kjEKTI1S7++2vK/KStj1gSg6G9536GGkvIJ7e3gXGdzn0Dry97Fy6DfQGjmGPq0dIhvqeOKxo1QUtC1GLmhg+un/BdWihTJJReKVUB0bR6fbYoyLETbWEa9eRWfmPoSML27cMAYixUHxj7EnpqcGxR0Ix08iqe5jzT34q+fgrZ8jk49QZAoQrb1GYxLby7KdNDR9pvAV25QKJFRkr7dIgtmHlx+FX56kYdkkIYvM2dRWGYiITOpRWyp66993U95XZYmGZ5VQasCUQvUKB9G687exdux3sD77WXTKO2nFEio7Z4I9BUTiYdOiEzvtsM3jx0/9XyjefB5Dxx8gIy8ZS3VoBL12i5ZNyKMXLs9dBnbewQS4QuFS6fRcCZoS54tKM/UyJjFWxflhGswMOz+BEglI5vpTyBeOEI7ziIIN7krfEPNTy1hXQgOSh0vcND+ESYBADJL7DDHHyxbYD7JTN8OYGLdNv61EhqJzqxaVd6+s9zUp1qhDZGWpMI1GxCje9mW0h25BY/wANjwmtqTUJteiEKUwicMIyC7yL2MPf5u++QzKj/x3qNz+JYxNTTGi0NptxhKXJIFH05ARkF5ffvqv0J66HfO3/6dMCxzk+qvIRW1UScn7y3PIUgnZ7jrQWUXcXGB82mBizWSByXeW0Fbd8znMl/ZiqL+OfHSdZKfIZhGwKeOBRbbIsznMt1wSosil4slkB/TcgEyzHe6Vg8EOzyG49n30m8usl7khIX9ASE8Vr9j27kT9vipLlmyzwYKW3Ng0rOJuCuo6Br0I/awHv1phrKmiO3wInaGD6PqjPMilgm2yQ5vCvYLqc/8GxbiJyjEyw9BCm0ksSAhiCtrqd5Dp1tEl9e6tLhPqiojHjwEb12AHLUQmf/XQ96kQKtjyCugXR9HKVpnMleDzu0OmWWw1UQpISJTXhTV06y+gxzwtE0fkKo5RlEZDZFQaW8wQAWJ5rIRPg8yWxlGZ+ip6cR/dxR8Qlq8SFpknsu+J3aGXCT0+5MpysnkM7z+B7soVDO8+itLf+y/gMM6E9UV01hbQW1tFb30BoCWGDN7paAWjSbaCOKYQ5s4yjK0hMzKNSkKFKJxRbAnjSzc7xM8+XNdBkOP+jElDV36AePIEmpXDVEwePa+MIFsm1XYVoQiBhCa6okOhVoIuyu0V5NZfpWDn4RMGMwljGw0DUQ8h86wW2zUIN+gZVBCNR7E3sZQbUvADl9voeWSqpaG9yJUPohm1aEg9dJZPwaZuNUIiZemamciKjn835T1RlqGwwnQ1nganwVi4Bey597PYcf+XcfmJ76Bz8zJ2/fP/A3ZWnSRj0jEUmpSCdgPN1WvoLF1H0F1lgrqEjfPPImlsKOrBIwGw9t2P1iRjkjOEgUcF0TsiJrl2lkrI5agID5NP/U+wu13M7fs9qr2TemhCcsM4xUgj0IQfxBhlGlCuk0wsn0XcukF2t48KzTJe3SRDPYLu6ssoFGaZlw2j2b6GLpmjQwpv/MtlnEzokUzebRIhkf+R/Q+jvfQM41WI0sRRdJcvok9DkGIlFytWXpdC/bsp8s13XaQg0gfmLjYceoDi1KEv/SOc/Oo/wdjeY5jYeRCd2gotlsmrGi0EISzF2SJynovs8Cgqe+7AyIn7MXr4IXoF6TTjRaZcoSB9eGOz6C1eQjL/PAZOG51hEpWR4+gN7SYtn2TAr5rhoMzuB4DV11EY1Kk80egsAr4zcjKXsjHS6WJH4xzy1/4SvSuPol+7wtjEhDg/jlZ9DgFpvcb+LMJhe/U8Wo3z8Mq7MTx5F6wsYZTNzlBBDrtgsdMa4XDzVfKiAdrdBQzojVGnDq+yk2SDe6uv9MA0B3v35T1hg7p0YBiXIILWfOuv/T5u/+1/AX94Fj7jhRD7/JN/gcmj9yAemjGwovE/k28R1yMyP5+Ktknt66cew/yP/xDtXQ9hMH4XkrV5jHz2tzB+y90YzF2Cd+rbKNx8GSXW2y2NItaFQ75iGkhSmEHhwjcQ5gro+Tsp1C7PkEU57GGUSe/I6guIrxIqN85R2D0KMmOEPfCLCJs3kUSkDNSEnZ9Btz2PhFDZb1+G54+jPMJ8MFhh3GTbeaxNFIntDHKTRxHXr5BkrNAgSKTCgNsOsL5loD8wKYtid4bnercae0+UJVhTXpQnrb7lq/8YJ3/jn8Gj10h5AwoxY/m4/NSfk7ozodx9p8lYhAg2LS5Q4CfN7YctrD7zKK4/9m+YwN6NtdmvoOVPmrG98spplG/5DPx9t6Myc5jouQ6XCfLY5UeYgzVpvB6VFqKfjGGqdwOZ9fNMgG8h/GSopDXsWH8FzsJTCBaeJjGpU7EeTy9PoZFU97A1hMyGxgK7JBVMCwpT6Mc1ZKhkNyDk9ubovR2Mjd7GfLCNmGQkYhJseT6KQ/sRLF0kscwapSSx0MOCP3YM8To9l15nG0UJAt+dtt4TZVlsg1es4PAXvo7DX/mPYNHi2UU2TXScHkfSsHL2KVrbOsrHPmtSn5isbyDLJoAm/S6ar/wAcz/+UwTVw1TU30OPOxG5YPkFeOe/D390lo2dwqBUQmH3Mfi77+aPZG9LryN/5cdU6hyVznwuP4HBwjkUc0Mo0FvGFp9Ae/kJhBtMXJVCsLGJTaHy3DZJiTu0A1GL8YV5ExvK7TF8EhaPpCDot0h2qMABKXh3A+0eiUjpIPKlGRpZBC/HNpGhBjQomzAc24GByphw6I0coREwZnUYdy0DoBLVuyrvjWexHdWZgzj8+V/H0OQeJqyMEmRsGZMY0usIjY2bF3HjzLOYvvsr5nqTgrUrIsL/q2d/jPVH/y3qhUks7qCiqFxn0GNnfSQkFMXeClpLl1Dec5gMM0eR+rT+KvwdB5DfeQg5Jrc5Mkz3xuOw3BE47gQKtcvwbz6LWu0SSQxZGmHWjFFSoXYiK2eO5Zfg5sYMO80kZIFJDiHRQBBXKE+jTa/U9S95oSBvwBQhqlOx7G9+9BCR4iQ9sYFG8BrZn+YeanCYnJY79MN1lJj3hY2bhkTJcN9teU+URVhGi0lNY+EGvaTBoDxCSl00iaK5bkRtRq01XHzm+xg+9itMcYaMncX0v965H2Huu/8aS8WDWJv6AgJXQz0BY1mZembFhMqoPE7veQzFwjCyk3vJBgk5DqGGsSpXGUdu1y209gqaC6+hlJR5PuZra2Rn65eZOw1QCHOsTyPqTG757pJGa0KMU5qgYeXoGYROkwvpyjAhuh/Cre5ESGOy6HGOtGMm0KSXVhCtImIcs4f2wSEZCSMSi26DiqVnsq8yizjkuXyHxjBpkvCUDb4773oHymKwpLf4kQZYE4S0tETZPz2g+9B/jt7hr6B943UsP/UXWHv9FINzDc7wJGFsGBknNph//kffxdDsAXgzRzQwjuSNx3Hxj/8H1Iu7sLj3K6yfDI7wpPHDgSWvpLDopX0rR+LioDT/LMoH7qNH+Ai9Mkr5UeQyIdZO/wCL3/5XaKxcRWV2L3npNHqEpnbAHE4WTYansOFEPuuONfpFpeRRqVbR7zEJ7rWpRO5jkY7zR9mIcjFrag+CFbJYSwbH3wd5s09EKPXBtoLxb+lFDE8/hCxTiXXGtmxMj010joR5Vw1DQ0cY/zYQ8JXRmKMZ/9Rgr2/aZckITDx7+7JtZckyNP/AnIiNzSib5ynd4d24fN9/g3Z5FuHOO2CN7UX3+lmsvvwo1t54iQLqkngUSRYr2HjuhxgUq/SE/WiffRwXvvW/Y6VwEKsHftOMDKTDTsYdeT5Z4WYnGLDzWSbMi+fgFvMo7jpAYeeY21zAwnf/T6yeehLlo3fgc//hf4XZu34Fg1yeVJwe2WScCkgE2O6ABuOw/vTCIaGQUJwbOcyQcp2aowDlRcbyFV+AHsnFGD2nG7cxIIlRv43CDZPNk5iI8dEg2ldR3ziPYnEUo0MH0EsC9AiJKnYcUD15E9t63XVYzNU0CccMVuvFpmQ0jrl5zrcr2/csKYturmEWTWzJyjV0okNfQW3ifiNWjT5Iab19n0WP7wGD+vKZF9C4eoqQQlq+vIiQcUAJ840f/iHWvN1o730YHatI+NCFQCK7SWA3lWSK4IkxgIzSCzfgLJ5BkR1de+k7qD/1TYyOFHH0a/8Jjj/8uyjM7KUyx1Ac8dFt0SNrDcaM6xRSQnjVpAFdHabE+fLzk0BunAnwOZ11U1H6TW8ySFKjXp/E5hh6zUvmN3mXS0jM5LLwK/vQ57GsGrkwwXqX/WJsKg4fYKJO2KVXWX0aRxxx3xHCSEibWGfVWzkX/9JTU+OUkb592bayDA5TSTqRLhloAHZAAbdv/300GTcUwOUZyidCa8gkrNHUreiWp9BYX0Hz9A/RX1lCt7GM9vw5tEgE6ju/gKYzSgH0TJ3p1du00CTSTnG7XgmV5TPPGVx6HI1LZ1DOVnDkV7+OAw//Bxg+dASe6xriYCyfMS1LgTbXaeXtOnOlmwZOdQ4nZh9oZOWxu0kgrpLlrUo3LJuMTV+0Lz9nggbJyzGE8TpjcYubeSx/dsZ2URE2Oi3WawX0IMYtem4cLBNWN8iGCyiWjsCPC+gSisNsFoX8LnQ6czxe1700opGeRxc5t+tZ29uLRQ0VhBjCwPNIcSjtQr2yiwGYFJW/O2Ra7AprpaWQVbW9IurT96N+4ncQ7L0Xq0GAbrOG/s1rWB+6DV2nxOMYz3SZXU2RxStP4TfzXUXQKIhk/MqBNDrqkVIH2PHg53HwwYdRHGVcpIVqfiFJN5Wq+JTFyOwsdp68g/Hx00CFRIICHWiUQzJivMoVJxC2Lqen4EbBvGCOv5q+am5IyJjc3jiFYuXgJvRnKQMCW4ne1jhPJNHU64ixViFCrc6SaDQRzV1Dd+0MQKXmdx1B3CEcM7fzyjOEb5dtVd/kqVJUCpnbKZsSefsiENGleXVKVi/l9McPUeBlREyA3QGTSOYVLgWaI1tiFDbUfaT+Kiaf+9+Qee6bGKNSswMG6ByDM5lcOrAqmGNPMynbUpdlEOl2fjYCZMzqr8KrXYW37x4MJg7iwpN/iXVRa+5biHS5QnMO9dLwTsQcysWeY4eM11V3fYbbRfnZcnqAV2Yi21+AFTBvkHFxe1q2BCdlkQrQOPudGybOeIRMDRv5ZImDPhXUv2mIRJSUuF1XwmUFXXowPSxTQ6e9guWF78EK+5id/Ax6ToTq5HGSjREqXpql6HWRNSbr3WbZNgwqpmQTjToL/sTYGL9u+SJaoydMrIwzyolKfO+ZAdRsaxG7zv5b+K/8OQqUx/g9X0V7XSMBPGmHAZsBOSxOGUuV5xA8zXkiWr0GgiUAQ5OpBgmv3LwIp3YFa3f8cyTT9yJ+9c8Q1FcxdoQCyJfo1R5sCsumgTiWIIvW7mQxvCOHpQs9WDEhqrFEFttHderTaG28SouXN6l+FsUNwZIUt0ntE5f1kPYjS2VphlP/Bkan7yS8vs4kuguXhEHXtiy0kI2Yo5Etm0v6NFldWHEiQmWngYDQVxzdz1RmDyr5cUTRAqKwwT10Pil5sw1vU7atLHORUE0hVsS0XrtYQv3Q19At7WCHRUcJg1ED5Y2LGD3/HZTP/AmGBnVM3/lFjN7/JXQvvILa0nk4ex6g0G8g17rG+DqMTn6Gx7ODBp8kKM150JuMgttpgZVgCcPn/x06h76AtR0Pos18y8vnEZz6NlyvgLEdh2DRU5VauLR2GVJfIyQyMM+hJxWwNs+klfmOvNYfO4DOjVM8paa9SdjyYsFS2kcDOPQqsUgr06JXklCUd5GeM4ku7kZz7TnuS6PySLTsIo2iyiw5y9yyzPNVGS8rcPM58qhRZP0pkxO67FvHGwZxmUbFcFCnZ7Kvak/KfN++bFtZGnDVxTRZAgEMg7FDqO/5IvOdIVpVH/nmZVQuMo86/y0MR4uYuvVTGLrjS/D2H0ZYX8bSj/4MnekHsJqbJqQRzkZnkdx8DYPyDgZgXapnoXI0yCtMl6IEtznmcZXL3yHlymPj+O+ZqWSKKV0SmFzcQfLq91GZ3Imh8Qkip2CQ0JLWxqNpVPRYr1Ii5OXQWKOHFXwytQaatWtI7J7ZV/Zt/stmNFbpMGFmapDxyECZPzk55meFI8iVTqBLS6pIuXmer0ClFMpw/SpfZXOc7XBfl23QrGCyY011GzAud/tryOd3MKoNqKhXkbRWdEoW/v5ee5Y3ILNichpYecanAP2d96Gz80H4SRNj5/4E/qt/ipHwJiaOP4Dhe36L3ONWWISPQdDHyqtPILpxDusHf5Ow0sZo4wqmDt8LRmG4159GMHqU1JrWSSUQXKksJcQaAI1QWTuF8sKTWHvov0arsIPSFGOURUZknAeQXb2M7rXnUdp7ArmhMXqWRikUWzWcpWtYFAQTaq/q6rIZgjbjpV1hSpsgV5kx+VKedLs4fBAFvueqe+EUd8C3x8nq6EnONBwnjzA3zNhcpoJ5fio7qJ1G3Fgl+1tC1CHENpsIu3xvr5lLLb3OKhNz/t5aRtzVEJVtcrG4x23dBSSdmmmjBke251fvQFmydp8UW2xtQCvCrnvgteeRe+J/hr/yGqZO3oOpB7+O/P77mPiSdES6Qkooa6xh4YVvojFxC5arJ+FFa4TKqyjP7MMkGVvtyil2oIU+hWXuGqFgBUWKOQXmJcMXvoH28X+E9ZkH2DkpiqSAMKLcNnQqhOEJxBd+BKsxj4n9d5iZtxpYFtFwNXGUxxT7jC0VAjmTosU5tp9GkWM7Bk3G0O48AuZi/fp1dNauMZZdNTcm9JnsNvuXyBgXMKBgPdabIckpRT6dfIgMs4qw30emFjB/6jNeddhsEhsNW9GTRFA0Cq85+xpALg0fQxAsIknW2f4C611lvOauGvxVjNxG2b6yaPNZ410F5n4JvOUzyC+/gslDt2H0y3+A4swhOL7P4E4p0rpDMiZ5ytqFl9G78irWdv4mAalCIZJbrL2Oct6Gz2OsoXG0r7xE8hIhKkwgcjx6R0uOherNJ5Dx81i49R/TOzT4q/wuYLWEYQ3XiMkxn7JcUuoXvoEcY0VlzzFuJj2WmCz5leZB9EguljH/3GNoLl1gMnsadq6EtY3L9IIWldhh8tqhEhl72XaT7Mc5CrZAQdM7CW+uO4r22jl02xfg5PegtvosCmyvPBEJc6ewS8MQDDPukY0qBuumco3wa25iZXg/6iuvU+JMtplz9WgcSrxFScwNfNso7yBm2cZKFLsMzkuYM4SM/Z9CvsyY4PpUBoXEoGkxa7cofNAiN079FfOtGdQqt7LjxHCrg0JNlzBs5EbGkSkNI5cQVufPUzEltHKjVFSCYnsOlZWX0Tr66+hVd7FjRdYZsGuuAUFdHtGAr3KnmPlLEgWoPf9dTE1W4U3uhi9hGZKg2U8dzD39BF5//BtUdA7N6y9QwF2UCIFJSCMJ08s5JumVAVCESpy3EvOE+aLjlQhny+hqTojg2ZtCbfk1RMEaitWDyBbGSByy6Y16ZnyQcqLyNFidL+2mB1FxtRX0ud0fmkKwoVGRiIySOaYauY2ybWXJRtVwxRTqCe7YXvQYWNuXnkP95kVm8cyhchQUAzTIyDRVrHX9HFbPP4vViXvRKUzyqJD5TwSvSYJBDxmeJMkgOSkNk85224jmzyAe2mNm105c/yGSkZ1Y3/slQgzhz+Z5DXuiWBXTRO/5WeINmXDGVGh+9Qw2zv41jWg/CmSrGvMLe32sXXwZp//yj7CYO0C3JgIsvYxuY51W30WhwnYxmQ+ipoEu1ac4YgZZ+abxRMsnq2NuGDXnudmm8hdIPMbpYUUzC6rZopeQ+uuqs19h3LRHEMYMkMxTsmy7xz71qWgFTd1z5g9TWa2bPC/9P/LYDuV7b1+2rywKR0IRHCow2vkyGrf+NtZnH0K2Xkf4xqMIKGzdn+sOz5BJkdq/9BdY7zloTN7LRpLFUVkZemi+cQ2F/gomD5ykVbkURA7liZ0IF86jt7aMavcGHAbo9dt/F4Evap+SCv03f+TWMhm2QzcsiMYp1iVjR+GcfwLBMo1ndJIMLERr4Qpe/u4fY31lA+u3/Q5sEh6f8J0EbeZNTYaXGIXRXYQxhx5Gr9FIhqlbAJWlt7DHuRFaZ56EYc7EH5G3Lj2zoDxRzekQRllX3CGRCIkvRIjC5DS1koOTnUSGkNtqUjlhk9LzUfDGef66ieuhszlbahtl28raShqNrCQfMrnW7H1o7Pw8Agp6fcen4a5dRfTinyO8cYbUdA2rrz+DeOwk2rkZg+cD0m75pd8jjWWeNX3sflTHp+CVhpAbnUGpUMTGi99GZvk8rZkWOXYHO0yLpYc4Gk8j5CXMn2iSpi0aEkppN+vm732niGCcROXUvwdpGnMeF9fPPY25Zx9F68RvY3XyPviNGkrrLyJukzorTSBJCOM1VKbvpqH30KYR6bYeJcVilQ6TbLc4wXMOEHSW0jHGJM9XBzaJRW7siCEhGiyO2Lsk6qLbbdCJ+mSXM/Sqe0jjKwjbp3gu/u7GzLEZmyOiDxVGtsb2b42c/OKybWUpMfQYM7J8KZeRdediQsfUYTT9ccT0pNquzyCevhXxEtnUi99C1AvJ1hhMGVzNWCJjjADVoxVmGax3nbwPE/uOoDA2yySXcaEwhDnS/E6LSuiuAlefQOmNbyJ36a8wPvcMcitPYWj5eYzFy2SlJASMjTZfTtxDxJjgDwilzggqmS469DAr4+PGc88hmjqGhRO/T6hyyWDbJDgvG0jbukki0w1JtS/Dm7oLWe4T9sTsaJiWmFoWTpmMs99hfGpQgUrWCY8x4XBQI/nIk/ofIpu/SlUJdZjXxUwLejGa4Tz8kduIhswXnSHKrc5jGI8F0czH+u0N9F2NurzHnqXRgDS4q+L0ZfVqCHZ9Gt08XV7fSSo6unaz6wGUr/0VQsYjz2VaWpoyN2NnabmaB5jr1+CunsXuI8cxRijMEFLzWcInlZVjsrxx4RQG9IzK/tswefevobTjIDyfinGyyPbqsJbOIXvtSQzN/RjDS8+gPP8Mhm48S+hk3tai0Cwf7voi6udfgs14Uvvyv0SLXiePLLRrsNcvMke6KrDbZGTsD+Ewbi8xgT4AjwoI+nUql0k0FeqUpwlxq4TJrjFS7W+RKEkeUXedyDAJuzCKqL3MbWlSr/u86FYkUll0b3yPsLeB4fHj8Gi4A+8Y4x0zPcJ9TPLzPsCg/qt7xGxBIRtsM8H1GfjXdz3I7cotZHUuhmuvw738JKZueYCqoeUsnSasldHNjlE4ORMHvJXTmN29B8OH7zZjtrpPS1l/cWIPuhtrWL/2Ir2Gie3wBEbu/ioqBz+F8rF7MX3kHlSPPoDS/nuYeB8jDO1AjjBadQfwKLhC7QIKpOYxqXrQU0B3ULv9n7C9EiIZbdjDCNOOVn2eqQjzJJ5XwlV80kxcBk24pXGGqAp6QVdqZOK8j5543VybEtHSkJsGY830soGLHpNen3DoUOiaN+iwLVaBcat8L9xskecgx2TSr+MzjsYaxxgjN9CrKY4xTTFnefvyjmKWN+igZxeMUvRd04MzjZtIDnyegZKuLXUypsy++C+RK/iY/cofoLDzIDu6gujCkyapzhTJlNjg0vJLqI6MYPz4p+ETbkIqWb7r2FoeIYP1My+gN7IH9SsXCb/0x0O3o+jmEFGIIjf+ECn/2AyK0/tR3H0M5b3H4R+621xFxsYcGnOX4ZKSk6Miv+swNnK7KROHsWaAqdVzAM+vdERIoQE09UdMV3eI9Ek+/MIM8vSWsN+GV96DYP0cY5pGVQbsN/sfM6ckmcr6pOJ+hTBXRDJ8gv3eSUY4AadCaM8SUeqnWF/LUP6QcTyixzpZF82FpxAHq0Qjnp86307ZtrJEmc3YIBurulMSzUL4cPN5Um4GWtL2oY1X4b/4r7Hv7/8BqtO3wWGQdQ+eRIUxpXvqewwDdWTKpL3tVZS9BHtuuw8R4cIEdArOXI3N+dg4/TKux1Uk5VkMnv9/gOEx5Kb2mskuUqwuRThklzE91aXQNXcwYXLcuXgKq898F5kqj2NC6pO05K6eQmv/52gEPI6GVl5dR2bhSbJbnU92zbhHiUlpA/YxIvPt0EPGmIqUhj+FFomK012Anc0ziZ9gfnYY5ZljKEwdh13UQDZjeL/FvnWRZAdoL71CwTBRz1BBN86RdZJIsN9dkpLRqTvQ3ngdCT1b60WFlMv2/OqdeJYpmwr66dKeR/Pwbxi8rrz8Z9hfiVD60r9A18sz6JPJMR45e2/HOIUdnXkM3sYZlN0+g3QHux74dZQ0fGT+kU+x5fK8YPEi5i+fxsqOX2G/hxE+9w2Tn7hTOylgQtYgT4LDPIreHerKX8IE/OxrWPvj/x6rFEhIDxzurxKKH8TNhRvmNtf+qG5/9TG6eh7R6qsM7GnyqlREBEUWLu/OmivOXdQyi0gmfpV1ufCL9NrSCLIBFdldQm/lKtOCV9GmlwaNObR7S2gGNxl7h8wM31L1CFpzVEq/Aa2loalsY9V76NwB1pZfZ/1MvmmYA0u3u77HIxi/qFgRva3ExDFcRenqo9j9xX+GwdQuwmbdQI2VeGY4yR6fRo6koV3bQPPaBViNBYzd9WW4lWHaYZ/7KtklQyPTiro1LJ59Hs3CFJrDx1GIQrQvPMH4RPij0mzGjL6tKwH0DpKRJtOEm9/+X7nvLajv+hys9UtkjE2M7z3KY3xEF58xI+WBLnXUl5BbfZ70WTcOMI5QWGJ9JubKaLIe7KFJCvxOxjgKidCfQZskYRWteA5otdFn0jtIaHDyC3knw7nD3Fb5VoFG4bF9yytPM9Wg57BPfnEXKpUdWF54gbFYsZ1RVNPNDbl4r2PWLygW3SGbNOF15uk9oxi652vEc99YruixrbE2dks3LDilAkZmD1LAAdavvobu2k1i/DAVNsZOu4YFhrV19EkEahfOMua3US/vQ7fCmBOQbV1+BqVSCdbIDp6YfsD9G2efwNIjf4jl4l4s7HsYgzCDwsprGMm24M8cRqlYRK9NC198A8noEcIVqfTqiwhIxSUrjVqINEhmbonxp3oIjjeGQeMKX2dhMc8SDCY9XTRkTyoVxqoxslPCWEwlajTF5GXsJkmEX9ptINlukJrHAdnlCMpM2Gv10wAZq4w3tvvGo50kaxS3nfKeKEuXv21S20JrBdP3fg0+qXY6m9aiuxMGIw2skmw5GmujYl1aqmdh5RXGMOSx+MpzJANdZMigmp0aakuXSfsDQs0yuoSwDXqWLs0gPwl3g5B77Tnkp5lw5j10L72E69//YzSzVSzP/ioNosi61jG0+BSK5Sq8UaYVDP5OsYw+Kf+gy/P408hunEXCxFjz7CMKLmL8rIyeINQdRKdHD1q/Qs9voumQYJAd6rsvwrE6Z3I0a9BjrJ6iYg+alCIiu9MdKY6ub+VJSGpnUdBNC21CY3m37lFAt/GGmaei248UGzUd1Ewu1YDDNsp7oizhu3Lwft9BmxZs01sqWQZ/epfL+KL55TEpvk/395kwCr/7hJDas98Ejv4WWpkybj73TXSaayjlc+h2O4hJu3v9CK2LL6M/doDxb5gKd1Ef2oHMyiVkzjyCxtUruPn899Cl8ud3fwkRY5vDOOaFyyivnUZpaAzZyigtfgA/X6IXeUyWH0O2OMrEvI6QcKhbaT2yt6npz9ELYqytvIiktcwYyASb0BwyP6x6O9GpnzMj6sMjJwnjjFO6u595VabbJD3fidFZko3SBLyxuzDonUV94xr7T/q+405kyEJb66/RUALjfeYWIN2MR7WZdOiX6VlWkiM2MwnUymG1OdSvnsH1Jx/F+qk/RfvSCwhWLyMb057I3Dq6gkpDcgknC2dPIajuxo3Dv8Y8zEb/hW+hd3MJ7tAeeFGHnexjZXGe+65go8pkckDGJ2+lUOzrL6Jz7VXSaZrJxFGEuV3o6658JqFucwNDzOMqs7tRqeZoTAFJThH54Vmgfg3JynmQ6yNprKMydQvK+RksL55Gq/YGbHq0Q1jTMkEDFBh3iY3FYVjMv6LaKgZDQyjoVlcm15pvEiQr6ARX0ag1mFcdZSLM1MHOwXfGULTpcbmjZiUCi4n4gH3SPV2kuOybRvrT2GWC3jbKe6IsDfGbBT5MsCT9lbEwF4mDPjorC2hcfBVLL/0Q9dOPofvG8wjnzyGuXUdn9Sai9TlkxvdgY+ozAJPP3twL6F5kDuQRWpm/WM0mgvlLaEx/ih4qFgjkghVk1y8g21umh/JcKxdQWX+J2xfhhwmq9fOs/wpyxSFzjS1qRUxwGT8ItVHoMXpO0zgOwqpWyWQXUV98FYOgpktNJj3RqLtuMtB8jq7fY0K7G4O4jkDDWi0yy/IhwglTmW6dcVk3ELpwGauYZVMWzNPWXqYXLaIT1Ug0mFjzc6950xASQZ+53mUUJHltT1Eq7+s9xQqgGhM0FJnulNF4m7axgVlNaOF3eZo/fgTrRx5GZ2gnJjQyfeG7cJbPYXh6D7J5QtwLj6Fxx9dRK9yKQuMChi99GwN6cJ/5jatRCGpQrCrRNSS6rEbO4yjDfI1e5Y/yPGyD1ZEstSfc6Ydo7SQ0HVLu64+jF9ZoXJqvSGhisquoElsac6RHEMILIwcQkgkG9Q32ifGGUF0ZOWruhw40l0LbcgXGqDvMLF3diKDkOXKYzBDiNTEmTlT/uyvvq7KM7dDyNflFoGI20O01HVOzLZSXebTIPrFds5DiXAWhvwcYn4DfIRwuXUWmyCNXWmhUdyAZuwXZ608i00gHYXXp36cQQsulQJilMffKWLrJgNBIi7eLVUR7vox6Vms2MT5Q+BEVmSUJmJp7Ek6zzZxoCJ3lM4z+KyZJltW7GqCgsqgBDULRmA6hQ2iMlkk6BLXwUCkwsScVb62+giBso7zzblj9GI2l06Tm7JlGOkjbxYJtpiLpJNJ3J+r3BAZ/fqFiyBTNDWxUmAaDdWOazZdmzkp3Wl7OGbSI57rxjEytNY8s441do0IYJ1rchoBpQHAJztpluBpQVT6mSM3/Gu8zCxHzXFJIQkFGZJgmHpD+DxgLG5OfQYvMLXYm0dUtqEzSdZ3MXzhFa30QQ3mSlgYh1cwGptIJgbrDXiMaCev0J+9HpjLJ3G8eYb9rYDImAsSlKvIjO+HQ0/LFw2hde5w8j8RDoyDUu/ouMmEaqva+y/I+K0sjHoIoiUDDQ4RDwpZmHelGA03IVJzo6WZwKlMjGGaRj9hBQCuU58gYlQNZ6JrlEYzCVSfVIrjSGULGMs23sNHZZJwkCdxfI8SN1iJGeytoDB03F0AVUxkI4fZyhNRnsXrkcwgmboWvqWSMW9nOIvVOr5Ux2W2ywTyGJr/Io8Ywmh/FRPkYiiNMG5hLWdkpphu3Mg87idblPyNUtrmf2qS+pKMjgsOUQ3wElJVm6BQu26qRbwOJfDkm1nAbiYhunDYZPTukuzT0rvE/l/Bh4g+ZpkclmHundAyPp6/yO61W9fK7pmUr2Ae2lmtVrHQZ0xyUqbiws05fqyMqzRCVOjygQlH2UGpdQHPiLqwP7wMq04xvYygkum5FJdFZZWSFoYNwCGe95aexvvIC1pg/9en9nagJp09SQqJht+dRXztLpQj2CJxsszxbLDkd1VczP+TKko2Z6VZGUfIH2Z3GwRy+U/A2gzh7IoiUxatDmpYVUUquGTDWi/mbJm8yRzI3PlAQKvIsQaAgJ11QUvXqKrIuY2h+hsb8NLISM1ty4DInyg066JT2EC4ryEYtTNSUOtyCdpnQKCWX6Cn+OBmcZkzRoMpTqJYnsHHz5XTOBGHSDGSTFcYB2WGXiTDZYYfJrolTTDXUMnPl17iToF/b+Z1CeLfqel+VpcZJDXp/8yUFyPL4WZ6yGXvS7fIuvevXTSXzd7EpWflWTpL+uvU33ZZ+SevVWbVdFMZcoeZGrcKpdZs8GkhSYOyyixjZeAW9yizayuEyJRpFjHaxwvyojOpgAm5R19bOoV9/3cRdA8dinQbSdA7GJc3iogLNOWgU2sa9+FcUXW3TW7rvuy2q9f/3RSsGWFrYWFeur/4Ykze/Z2YSd0A4lBLpiUyG6B3au4i1Clmpw/wqWkBz/TptgAai0XnjralnfxDlfaXuH5ZiMZ+zMrrAqfu4SGwGdWT2PYSol6Cz8w5sHP51c7km162hdO0xZC/+BZNoUvl+Bn5fM3sVd6gkw+w+uPKxUJaCvW5W190bIWFRjFEx0GLCHTMhb++9jUo6i/LqBQyqeUzvYfJNOv7SD75lpqyZ+42ZfylGClzTkZpffvlYKEsJNKOLSRkcEg4l0RK8JqZqcUqvWsXowfuxe99BlI5/GuNjM1h85hE89n//j+gHWq1NQ0/pbbrpUNEHUz4WMUt3vegmASXTPdund/mMQYI1CT+D8emDuOcf/Gc49PA/xPiBvbBKeay1Vkke5FUiFNxP9/5qEPY9oQp/t/KxUJbSBJX0KT4EMuZ4knlEj9Pgx8qFU7h+6jvUao45X5YeFzGvuoJEK8Mo2aZHKqVPFfXBAdHHRFlvesNWiqBiRkFIydv9Pp76k3+FS4/8v+YGhyDoo7ayRM9Kx/gMNTd1fHBepfI+j2B8uItELyKuUYY8af31N87CK+XgeR6uPPcjdNYXjbIsDfB+CMrHWlkm/abGRB7MXf6h5oWcRbu+hrUblxB1mvz9g/Wmt5aPBRv8+WUT3gYuYiuBraUf+D3xs4g1fKTlYz5E5WMRs35RkXelCziSktOLApGOQIujaFD2w1U+5spK73J0B20qS9fesszBNPfIV1aW7vIhKh9zZWmCQUzFeCbh1V0wmo2ra1Ep9fhwlY89DH6UyifK+giVT5T1ESqfKOsjVD5R1keobFtZP3mGlC5Rb16mTi/PaxqM/rIqcxXVZvKieXJbjCqdMLKVfOoinr6auzZ4zJtz6dSUtC7N29BlfNWvuejpObV/msSm7TCVksXpMr8GaPUudsdkltt1HrVJ43/pQO7WJX+dQ+3TuybgpFu1wJd5QAy3pOfR/pHpR7pFdegcmmbAdlkxInNpWTka33QetYvfzQQZXfPiyyy9YGSh8+iVyiQt2js9/3aKWrC9slnn1inTDvATG+SQ7qoDpnOm0eySmU6tPCYVqIQvBW0pJ70fNxWNqWmr/Swxv2hf7bOlGPN5U2DpbKG0m+lkG33Wuyb8a2s6USXt3payeAJzDn3X5fmUtlvQCLxu4hvAzPVjW1VbZrD5pDkj3DQfM8sEcX+X1qRHLmmJu1Qp2o/70BhV9FUK1GwryUDzNjQtwNTH/mxN+JQhvpNpAurFtorWgTUPS7H67FjfdCpm4qgLe5GjBSEpKi2lLc/R8w9NJ9UJWaKktLl9s3OyTAlJywoYizbXioyY4OpakxGubsRjJ7mfkQfPp1U6TR3mXdPTJHxdwdURDtuj+RZ6RK0MKDZtVP2pAiUsfdINbunaiZoupsX3dazaLMPzQ5/bNclT2/RPU7I1s4mHxyW03HRtKLVd/Q11xx0NVefTdjVmYHXZ/Db7qVtpQySOHgSgSaRsV+yahSX9CObuze2WbSvLWAf/vdUzNHvIyvQwSLSukmvuvnCjdClRLXq/dUd7Kix1QHdnpBaWzmmQwNSEFJa2mpNOTyP80NqlGKkwtUZ1TJAicNMxsl4dp5YJpmUSqkNz9tReegw9LzWWtJ503/RuR80v7Lk0BLvFfXTbrM8jHXT8DUSuHnfBc2nCJ99TI/PYLilIE2x6rIov1ZrICzUtjm/6xNMZb6anOVHeyANU8mCgRVs86Nbavp1BwIjRZxu2W7Y9kCsYU2OEwZoaJrjOUBkRrcYDLdMaQexqISwKNekgCZsU+jA7psdDUHguFZgEdAg1LjSKkwAk1EQL7juaVd7n77rHlljvUmH0MC2voH+abp16E0WX8WDbIxjEyxSwbJp7GOVHSAaaWKmbquXlXbP2iB6hpNtlNeFFV4jNSLo7zP5kzGRTs4ScPNQKEA1ChOwot3C72sK2URm6pUleYjtleGyzPNg8A0wrZ5tbeWRMW/MzaDIulSRlaR+ex6AS/+nGPcVkGY+erjdIaOA893bKtpVlTkWrSmhpqtyszmx5yFankC8fQ0LhakFhrf1u95qIaufRbc5RURQgTW145g5EoY3a4msUBCGCgtPd6tyZBjuGIT1KsH0JUWOZv1nIDu1DP2gi6cwbAchQFF8UAxIvi+ro59FuPouktm4MyMzSzXSojDzibBaloSPoaCnw1rps3FwV1koAxjgo1LHdD5rZuzId3R6rOX9WQkF2V9BrzCHoLvNcNCrur+nEA3eAXGk3SvnbEebZVxqdZDLoL6O7cQFRa4n9Yp8oTU3KKc48AHgjPGeTRqDHUm0qknFM+2g8sr581iyYLK/cTjE63k5Rp1KrESTpEQ8JssO7UJh5yFhrZ+N59BdeQbh8GlnbQmn6ASTDWnmGgZSNa4UuSsNHkS+UWEUKj7I8zVb1y8Nw8jsQ0EsSGoHgM1vYj2LlED1I5wtYjYTp8xiSA/bNze0BdzLtMVOUJWy2zxATrwx/+AA83ekh5ZrG649gVXbvwClOU8kFhBs3aVhXENQv0FiWYRfGUJp9kIqZZDPT+mGHKBVPYnT0U2hgHt2lcwiWnkV//YxZF7cyeS9sj33ludNZwoxFuUnkvVEaE41vbQ7J+g2e6yqCxmUa8WW0GzfoWYrhatf2yraVRamqqwzcmpJFo9G9uyMHYLdX0L75A0Tri7Sua2zMGaws/DWCpIV89RZiPwO8EGrhDDpUkjtyIiUrqs9psgEV+NVj6HSvwG2tEtcFsTaoW2SGb4VT0Lrt6VpRCeOEbhfSQliBfqfgRRoMGWe8DDMiCmRrUqK3F5nSTkK1ftX5SBK4f0wv1/3AEeESrQV0KfDeyjl0115FsPICmnNPm/uD9cAyn+fUTFzHGSWC7EVN/Vt6AYP104i17NDaFdTmub/vojB+lPZAIsEe6YYLMb0kWkVPSy+sXkJ35Q2+n0WwdpqvM2ivX0TUb5n2b7dsX1ksZq0I42MUVL5IC64iXnkdERmNBGEzQLuEtkG0hHrzDXhODn5W90wxziRtNvglesQ47FKZ9Wgun41CZRYZwlGflmbmO1C4uk8qqwt/WZ/eeIJ2oniS0mCTHVGhb6W8xjjZAMU3eV2OHpV1+yiVJhiwRKclQu0vxeovYxfPIaKhYvpkIIp97DbQrS3C8w4iyOouECCfKbEpFfT0qPeAYMwY21ewZEzUelGDjVUU82M0FsqEjFCTcmShKRPs0UA6fGktDMZvKlR9F4RutWa7ZdvKUocURA2ksETqLF1ecSS9wZsNc/XkbVp+n1i9toH+0hnGXy2QD3acVkcL04Mz7eo+CjUL2/KRn7gTSetmumYsBa7bfJTKCnLtqE5YOgCXcdGO9dg/LbX6s0so6BR5oOJtf5qW+yotl9/zev4+BbslGGlzsy9SsIEhnktnlfeayyOEp0FEkWoVaf4Lua/mwTtMPfQUHyvJ0tD0dFZ6J48MNl5BnR6nGyJSoiNFyBjYXkJ9aio0NCEEj00XKVEY0Pn5cZtl+8pin5TkmW7xS6YXwAlrSEaOICvBMknUurJa9Sx0umRU82g0LyLWo414nPIq9hO99bPw8vvM3Rql0b0UwhDh4RwbLban0QIt9h8hcAh1tRtoMQAXxz8H1xMMS+ib5afhg9+VDznOEHOaAjpaKL+7AW9or3TAY99qxVQWNyrSGUVSuGaUwQg5nX2re6KJY5RQG/1MHXHInC6/3zxxQRNFtZSfFlYO6Xrt/io6tWtEA6UP6TlkbFqsxNyDRgsXI9W7WSuev8mzpOj3BQbVNdc8YFkCY8f1zI2NSxhUdyI/fS+xp2pcfMu60qawIaTculXHivNUDJPp+hI/J6iMHYI3ehei5msI21o2m0ZAJiLPNcZG4cVhC/3V5+mBhKHxu1mvliZIwcPsovq3CjeKEucru0j5SbO1qmZrHq7uySJsmVEL7mNkI4vWB7K29GxqqQSXUvzYptdYygepICawmS4T2vVryA3thzt1H6KivMJmTsnf6CkqIkG6oU9s2RgGFT4g9R8o2Ve/CYUD5aSUkR6ynejF02v/7ZZtK0t2rY6JnktMOllr5RJa8y/DHTuK0d1fxvDOB5ApF9lo5l7UluaUCz413OTI86wOgqBHyLuIbHkXBtkSOssvUUy0ZkrK3L3I04QUVPpsD3a7voxe8yl6yN3ImhU1JfBUSeY9bRatVn7iwx7eATtYY57HGEFlkWbCL4y8KRTFFLVqE/7SoSgl7lK9iIEWqSSzi2pUFQ2TyawdMlGm0XQ23sDQyEGM7fw6KjP3IS56bDMBLhIc0ky1KIvaw5aYYatsBfnRg8iOHEV29Ci8sVvgjx6h0mfZYD81HtOB7ZVtT0VTbqCFR8xwDs+ixa0sur3XvoL22huk2NyndJIN+pRZkbPXXmKHNeKgISAqAT0wFSOk8A+T5rh4Av2WWNJFeg5ZISG052j+HjN710GueABWSA+hwGu9KxgeoWe5Pin2ZTOPzxm5DUn7AuJ2g9aqqJAhQy3D2XMS8fwbJAorzIH6cKZOIEfBd5hvieLLWyQgf/xOGn8Dfa0WwzaCKYJLhjsyvocefxi9ubPmgZyWu0ZwzZM90kuYS20QXlGMaGx3ID9yF+HZRdy8QSBgXweMw1rKnGfIjrH+7B6UCxPMGW+FX9IaUkdQZK6W87Uwix7z1JR02P7U+N6ubFtZCpjp4GMGuVjLDjC1dbOEOCXDHYSNNfSYCDvBdWTZIG/kXkT8bJ47pWQWHq1bE70iyoUQUt4DRzdUM3GNzaiDhEgxUvBZ1plhDqcnicXNqzSOmHrvoFA9TAUw8dWSq0wbnPq8WZBLg7B6mPVghkkrmAwvP4oePUVjd9kc42z5VlJzejAhyY6Lpr7S9J3kK7MokpK7E0fgjp5Ebuw4lVNCe/V1UnqSIcamxAoYi0QUHMJ4Dzkm9r0GIXaVFH6wglz5GLzhOwxaxIMOJSVYdFDQg2LiVayd//foMCfrLj/Ddj2F9sqzaK2dQ8KEXwYmjzRv2yjbhkEFYDvWGBiZHZNencAlswv50Q3zFBi3s7E1dnLjyvfgxYsoDD8Ay1buI0XrSAV0E8l+YdGzEam9TcqexpNOgzlOf5lC3W0eN5FjW2JbA7yi37qBPEcjOUhiUzeLW9la1s6lsM2ISDVdd12PTSeFVi4XUXFB4wKaNx9HZ+4xdOceRevaI9i4+iMDzWGmYZTqRhq2Cmlgem4Jzc7IgQyQRKG+eh01Hmc7Pcbt+0xspqT4UpsJ4VS2HjKd6G4Vokwi4yMaaQ59Kvqt1/bKtvdU4NcYmtigYpAeGWi7VXZCsSaloF7SNUyKQQbNldeY1Q8RJvSIQB21ybjUGf5Xx39ekTAF6GaoSruRTdpJEy1CkOWPkcrvJqQW+TvVqMFh7mvlPAwKM8jkXFRmP43Sji8gu+fzTMKPU0EW3MIs69DoglgnwVAjJb0VdBuLhFZ6aP0m+nxFPcKlBG2MivWSYMRMMwZZ9kVbGAp0L7SepOBQaSHTjl7tOr13Nw1TlFyKUMu2XqmxpZ/Tfm/13eyZftxW2bayRKnVUdFWTTd2KuMYmX0ILuEhMnfAE/ljeoQGPqmcsF9jzsMGGlaVQmjavLcvElS6t/7p8odv4HbQYD5G4ToTjEt6XjG3aU/lRmVvkhBFL+DvdkR6bMgN2xXNU+9khT4VKU8VK2T9IKXWWKESV3mnvEdP0zMXFQXThHlBvm7zyZZnSSjuRY4erTFRXQjRk44Ux00LSGaUR2WcTRJjStp6gxD6xnOmR6b/DMrwZfKybZZtK8uMdmvFFCmMHdEaEwNvBzLeOPOtMr1LK8VoCjKRWCPlGhdjh9L1itLcLD3dm6ZkRizST5vvadHjZTVKnS6hnSpMyaTdjxDWTqEdMG7Qwm0zsKuHHPF8pXEMgqtYuvFdrM49jo1rP0Lr4nOoXzyNxvwztPohWHl5oy6tJFQGjUoGRlnpPFK8mKigzJEnRyajZL9IyTWpOjfN/o/wGIe/ZxEwoTdrBopd5od5PGl5uNUP9lismS+m0KxH5xQD47bNlx4DoqInjm+3SBrbKrIidUrLHmgFlkF7lZCxCHf6BGOqB0cLgjBuWIwTcbGK0tgdGHSW0O812FRRWipRmTsbqXYau/uJsv5mSZciUPJos9up9YsiKy722yuwa6+YeJChITgaDM4yh8vtQocwNhAbo5doLSaXn/XgTDQXtI4kDUijGekliiwhzECsoe/Kw6R07sQiEOi7/Mb+ai14reBphevAyBFYpOMDS6MvbL9D7y6TjhengPoZ9JlEmwFqGSTrNYPL5nlapPb0yow809bDtvMm7oqIaLR/u2X71H3zPY1PpO8x8xhaRa4yQpY2Czc7DK84Br8yi9LECYTBgHnYkykb3BQKxWAkYduk5qWdFEIdQWeZdafZjjxEcU23jhYLe+nEHfS6V3mMmKKsnFKkMJJgHQU9S6t9DT3GR69URbG4C8HKG2SLGxRyKgABUEgP9KgVNz9r6gg6zL3YlpHRQ/RQ0vI2FcxmmYFXwa9giS8N+GqRY5WBvIaKyI/sQYlpySDPPjN38yu7URw5hLC3Qe99miapK2saZ/FQHN1rls1zs755MGe+PMU+z8Iv7yCDnEGhNIKQ5ENrxadA+fblHdzyYySeWrswnh2PKKgM85mI+O/mmDz6Qyb5DOpXKbgXEeuZxIIDHUthKG1NE1kKhJbd69bJjNqUjTopqKAi5FWEDDvMUAgUpp6cbbzShHdTlRiVyxyl02uRtbXYJj3bqoNGa4UIs3U1md7CemTfRvhhD3HcMBdF02taHXTbbF9fUxBMtXzpX9reFLb1zjpolP2wgbDL46GkucScr2pGo3rM+1paso7n15QAE8PkUVRwyLQiiiK2V8/Y6pnPgRYWIzPUBUulHZlI1/Z4qm2Ud3DLj2rc2lUN4ncJkUJ2CS0ZhzBCjxArjUPNR9C+m1DzM4qWONBQTIbJsoEOM0GFVZpgTwHr2pVOwbhkvJpGoPrMMA6NQ0+o02/pfb6sy0CYVrEmbaewBowrMijFP4cxVKMLypkUb62wiIgwp6f82JFG5f92URv0NFgRJkGx1pRSjyw9REBPQ6CBmGej6Or3gAbCzzIos7iW+m4pBqpVIiIiFlpcTP3e7J+QRkNZOoaxbzvl76ystGgbbYmCTC8AkoGxDbIU8xwt/pZOfkmLvMo8X4pFD2BJxxDF2raEIhPQd1ZitSkM1mserKJj0nPrEoTYoWYaabBVV3Lls+noRGrZugyveKDtmj5gm8ce6ZtGzDUGyd8oTDNVgFt/ZtEFT7XIjPSrLyI0rF+KN9ajbzzWMEz1Q6Pp7LEZ/zMYwn0kDEmBL/Vl81xKSZQC6AqF/vli0dsof0dlvfUQNkGCZ6PSSSr8lY1IX9zPeMTfLqnn0bh4QBqx1CUphRCWFLlDzRyrJ+qkk1MoWEGwsQZ2Tpa+6YHpFDG+6TdT5GUU5WY7tN2cjZBsVlrT/qzLGIk5598uRuksaSyT5+slSNTydIqhqpH7mHPrc9p/w2DZLj1VIe2h9hS70Ywq7UOlygv5i3nygtpovr19eQfKSpv009Xqu67gSrBmnqAEan5R3ODXn9OOVLBbP0qwEk56BjOSbeqUQFmnGW3n76Z+HaPOp2NwmnFkFKli6tRLQtT5VZ/sX7CpmUisT4omdBr1qT6zz98ugicVMcu0bdrzzTab6XM8VFHODArzVyk1nQyj31IVqJ96mdEW1WCO0XYpUZ/YEtPWty/bVpbZiXWrgenptj7rXZCSMqnUy/i7GrkluJ9RTP9YeBj3k4Vpz5TupnMI1Ul5SCr4jCxW0GY6pm08uX7XS9ZplGkkZX4znrGpPO2qOqUoraKmOX0SmhWnj3f/WSVtn+i7lKF6WKM5j84vSHuzfiP0zViUKk5FytCJN79ttU1btwSnH9/c5W3LO/Ksn1fShmw1Qq83G5x+/8Vls1ubn2SrEshW51S26tyqb6vOt3Zzax+Vn/49teH0L18SuBFq2u6fXd6s4ycKYP/Slm5+f0vR9rT29Lc3a31LPfyb7vXT5ee14W+Wt0rk71y2PCotb23M9hrxEyGavzrmp5u1Vedbz/HW86i89ftP/74FOSqsY9NTfnH73qxDfTMv8+2t9b5ZUlWkrf+btb6lnp/8/enX9sp7oqxPyi+nfKKsj1D5RFkfmQL8f3rcNVBoFD0RAAAAAElFTkSuQmCC)\n",
        "\n",
        "Welcome to Synapse!\n",
        "\n",
        "Your first task as an ML Developer in this committee is to clear your Python and Exploratory Data Analysis (EDA) concepts. We'll start from the very basics, and make it just a teeny lil bit more complex with every next code cell.\n",
        "\n"
      ],
      "metadata": {
        "id": "dx6zRq_3dVgN"
      }
    },
    {
      "cell_type": "markdown",
      "source": [
        "# Python"
      ],
      "metadata": {
        "id": "ITOnbgXJ0il5"
      }
    },
    {
      "cell_type": "markdown",
      "source": [
        "Python is a simple to use, [*very-high-level language*](https://www.javatpoint.com/classification-of-programming-languages). This means that it is easy for Programmers to understand Python compared to the machine.\n",
        "\n",
        "So, no worrying about semi-colons, wohooooo!! 🎉\n",
        "But we now worry about indentation :/\n",
        "\n",
        "\n",
        "It is very easy to compile, esp on Colab, giving you a lot of structure and support for large programs, and it is by far the most popular language to learn ML.\n",
        "\n",
        "\n",
        "You will really start to appreciate the many many libraries you can import and just use directly once you get some practice. You don't get all this in C/C++/Java 😅\n",
        "\n"
      ],
      "metadata": {
        "id": "QghnYypswwn4"
      }
    },
    {
      "cell_type": "markdown",
      "source": [
        "Personally, Python is a fav because of the [EXTENSIVE official documentation](https://docs.python.org/3/tutorial/index.html) they provide.\n",
        "\n",
        "Agar isko abhi se properly navigate kar paaye toh rp? Ez 😉\n",
        "\n",
        "Highly recommend you to go through this in your free time. Good to have it bookmarked to keep handy while coding.\n"
      ],
      "metadata": {
        "id": "tschWlB1E6Q2"
      }
    },
    {
      "cell_type": "markdown",
      "source": [
        "Let's start!"
      ],
      "metadata": {
        "id": "z-rcbXjiFLBb"
      }
    },
    {
      "cell_type": "markdown",
      "source": [
        "##printing & data-types"
      ],
      "metadata": {
        "id": "hn9TKga_0KKa"
      }
    },
    {
      "cell_type": "markdown",
      "source": [
        "As is tradition, first we write a basic \"Hello, World!\" in Python."
      ],
      "metadata": {
        "id": "xFY12Iny6_4C"
      }
    },
    {
      "cell_type": "code",
      "source": [
        "# Put your text in the double quotes given below.\n",
        "print(\"\")\n",
        "\n",
        "# Now, to experiment.\n",
        "# Does this work if you put the string in single quotes?\n",
        "\n",
        "# How about '''Like THIS'''?\n"
      ],
      "metadata": {
        "colab": {
          "base_uri": "https://localhost:8080/"
        },
        "id": "h-7FiNJ0FhmB",
        "outputId": "79c667ce-69f4-4fad-d717-8bbe34e09e59"
      },
      "execution_count": null,
      "outputs": [
        {
          "output_type": "stream",
          "name": "stdout",
          "text": [
            "\n"
          ]
        }
      ]
    },
    {
      "cell_type": "markdown",
      "source": [
        "When this ran, notice that all three \"Hello, World!\"s are on different lines.\n",
        "\n",
        "(Remember println/print in Java?)"
      ],
      "metadata": {
        "id": "82FeBMScGAon"
      }
    },
    {
      "cell_type": "markdown",
      "source": [
        "We usually write comments in Python using"
      ],
      "metadata": {
        "id": "RUuo8fIEGVyJ"
      }
    },
    {
      "cell_type": "code",
      "source": [
        "# These hashtags (try selecting a block of code and Ctrl+/)\n",
        "'''\n",
        "or\n",
        "\n",
        "These strings for multiline comments.\n",
        "If you don't assign this String to a variable, Python is lenient (& dangerous)\n",
        "enough to ignore your stray String.\n",
        "\n",
        "'''"
      ],
      "metadata": {
        "id": "obAnSIvRGfLR"
      },
      "execution_count": null,
      "outputs": []
    },
    {
      "cell_type": "markdown",
      "source": [
        "You need to now assign the Strings:\n",
        "\n",
        "\"Synapse is the best!\",\n",
        "\n",
        "\"AI will not take ML Developers' jobs!!\" and\n",
        "\n",
        "\"She's just busy!!!\"\n",
        "\n",
        "to variables, and print them on the same line, using the function print()"
      ],
      "metadata": {
        "id": "oYCjcRJ3Ib4M"
      }
    },
    {
      "cell_type": "code",
      "source": [
        "affirmation_1 =\n",
        "\n",
        "affirmation_2 =\n",
        "\n",
        "affirmation_3 =\n",
        "\n",
        "# First, only use one print() function call, without concatenating the Strings.\n",
        "\n",
        "# Now, try concatenating the strings\n",
        "\n",
        "# Notice where you got spaces readymade, between sentences?\n",
        "\n",
        "# Now you must use a different print() call for each string\n",
        "# The output must still be on the same line!!\n",
        "\n",
        "# Finally, print these using a for loop?\n"
      ],
      "metadata": {
        "id": "5B4AdUicIGx-"
      },
      "execution_count": null,
      "outputs": []
    },
    {
      "cell_type": "markdown",
      "source": [
        "**Look up f-strings and r-strings in Python. Write a line on each.**\n",
        "**Answer:**"
      ],
      "metadata": {
        "id": "G59xz9wr6gmq"
      }
    },
    {
      "cell_type": "code",
      "source": [
        "# But what if we don't want a number's every single unnecessary digit?\n",
        "print(\"Try printing different numbers with configs here! %5.4f\" %(3456.987654))"
      ],
      "metadata": {
        "colab": {
          "base_uri": "https://localhost:8080/"
        },
        "id": "zCf7HlcXPeZi",
        "outputId": "0d5c6a3f-1957-4bbd-9983-9a44a9f1abaa"
      },
      "execution_count": null,
      "outputs": [
        {
          "output_type": "stream",
          "name": "stdout",
          "text": [
            "Try printing different numbers with configs here! 3456.9877\n"
          ]
        }
      ]
    },
    {
      "cell_type": "markdown",
      "source": [
        "Here, .4 toh samjha hoga.\n",
        "\n",
        "**Explain what you think the 5 does.**\n",
        "\n",
        "**Answer:**\n"
      ],
      "metadata": {
        "id": "6Ld_LhI3P5Bx"
      }
    },
    {
      "cell_type": "markdown",
      "source": [
        "While most production / project code does not take a direct input, ever, the input() function is your cin/scanf/scanner input method for Python.\n",
        "\n",
        "It returns the user entered inputs as a **String**, and prints the message you give it as an argument while asking for the input."
      ],
      "metadata": {
        "id": "QpIBhP1g6tT8"
      }
    },
    {
      "cell_type": "code",
      "source": [
        "# Ask for a name, and assign it to a variable.\n",
        "\n",
        "# Be like Tom Marvolo Riddle, and say Hi to the name you got.\n"
      ],
      "metadata": {
        "colab": {
          "base_uri": "https://localhost:8080/"
        },
        "id": "1ZgKWUXJKku3",
        "outputId": "31d93896-c3c4-41c9-bd1c-d4c4f2cbfe28"
      },
      "execution_count": null,
      "outputs": [
        {
          "output_type": "stream",
          "name": "stdout",
          "text": [
            "My Name is Tom Marvolo Riddle, What is your name?\n",
            "Ginny Weasley\n",
            "\n",
            "Hi, Ginny Weasley, How has your day been?\n"
          ]
        }
      ]
    },
    {
      "cell_type": "markdown",
      "source": [
        "You do need integer/other inputs too, sometimes! Strings won't always do.\n",
        "\n"
      ],
      "metadata": {
        "id": "pZFVjTNfN7mh"
      }
    },
    {
      "cell_type": "code",
      "source": [
        "# Take an integer input, using the input() function and converting it to int\n",
        "\n",
        "# Now, print the integer and its square, to see that you can use the integer\n"
      ],
      "metadata": {
        "colab": {
          "base_uri": "https://localhost:8080/"
        },
        "id": "7aBv8Z2RN4Kd",
        "outputId": "5bdbba6e-8b66-46f1-bfe0-ec0fcda82739"
      },
      "execution_count": null,
      "outputs": [
        {
          "output_type": "stream",
          "name": "stdout",
          "text": [
            "Enter a number:\n",
            "33\n",
            "\n",
            "Number: 33 \n",
            "Square: 1089\n"
          ]
        }
      ]
    },
    {
      "cell_type": "markdown",
      "source": [
        "Python has soooo many cool ones, but here are:\n",
        "\n",
        "Data types we really like:\n",
        "\n",
        "*   List\n",
        "*   Tuple\n",
        "*   Dictionary\n",
        "*   Set\n",
        "*   String\n",
        "*   Integer\n",
        "*   Float\n",
        "*   Boolean\n",
        "\n"
      ],
      "metadata": {
        "id": "iY87x2K56niB"
      }
    },
    {
      "cell_type": "markdown",
      "source": [
        "**Lists**!! Everyone's first. Data Structure.\n",
        "\n",
        "Lists in Python are similar to Arrays in your other languages, but much easier, because you do not have to give a fixed size, and can append & remove any elements.\n",
        "\n",
        "You can access elements using indices, starting from 0, all the way to length_of_list - 1\n",
        "\n",
        "**Brownie points ke liye: what data structure are they similar to (other than array), and a few lines on how the memory is allocated.**"
      ],
      "metadata": {
        "id": "MHPLlvUEzA2F"
      }
    },
    {
      "cell_type": "code",
      "source": [
        "# Lists, in Python, can have elements of multiple datatypes together.\n",
        "# No need for a list to be only of Strings/Integers etc.\n",
        "\n",
        "this_list_is_valid = [\"Synapse\", 2024, True, [\"OOO list in list!\"], {123, \"anything in list tbh\"}]\n",
        "\n",
        "this_list_is_valid[1] = 2025\n",
        "\n",
        "this_list_is_valid[1]\n",
        "# If you end a codeblock with a variable like this,\n",
        "# Python will print the value for you. Neat!"
      ],
      "metadata": {
        "colab": {
          "base_uri": "https://localhost:8080/"
        },
        "id": "TScysV0VEJWr",
        "outputId": "5425317f-0f4d-426f-8b41-f7c58b1cbd19"
      },
      "execution_count": null,
      "outputs": [
        {
          "output_type": "execute_result",
          "data": {
            "text/plain": [
              "2025"
            ]
          },
          "metadata": {},
          "execution_count": 5
        }
      ]
    },
    {
      "cell_type": "code",
      "source": [
        "# Create a list of 7 elements (Thala for a reason?)\n",
        "# and find + use as many Python methods on it as possible.\n",
        "\n",
        "# At least 10 different methods required.\n",
        "your_list_name_here = []\n",
        "\n",
        "# and your many operations from here!\n"
      ],
      "metadata": {
        "id": "l-4VDcLBCoYe"
      },
      "execution_count": null,
      "outputs": []
    },
    {
      "cell_type": "markdown",
      "source": [
        "Tuples are exactly like lists, in every way except mutability.\n",
        "\n",
        "You access elements using indices, same as lists, but you cannot add/remove/modify them.\n",
        "\n",
        "They are useful in situations where you just need to declare something, usually critical, once. It could be used many times, and each element is accessible, but it cannot be changed."
      ],
      "metadata": {
        "id": "ATJnxVvdDSX3"
      }
    },
    {
      "cell_type": "code",
      "source": [
        "a_random_tuple = (\"element1\", 2, \"Threeee\", False, \"OK\")\n",
        "\n",
        "print(a_random_tuple[1])"
      ],
      "metadata": {
        "colab": {
          "base_uri": "https://localhost:8080/"
        },
        "id": "eotrA-hYDMfc",
        "outputId": "94460d00-9f71-490b-ea88-1b8f0a36132b"
      },
      "execution_count": null,
      "outputs": [
        {
          "output_type": "stream",
          "name": "stdout",
          "text": [
            "2\n"
          ]
        }
      ]
    },
    {
      "cell_type": "code",
      "source": [
        "# Buuuut, Here you will get an error!\n",
        "a_random_tuple[1] = 3"
      ],
      "metadata": {
        "colab": {
          "base_uri": "https://localhost:8080/",
          "height": 159
        },
        "id": "5ZOuKuJDFLSI",
        "outputId": "4456291e-1278-4cbb-815d-a25ccad42bc9"
      },
      "execution_count": null,
      "outputs": [
        {
          "output_type": "error",
          "ename": "TypeError",
          "evalue": "'tuple' object does not support item assignment",
          "traceback": [
            "\u001b[0;31m---------------------------------------------------------------------------\u001b[0m",
            "\u001b[0;31mTypeError\u001b[0m                                 Traceback (most recent call last)",
            "\u001b[0;32m<ipython-input-6-ef477904605b>\u001b[0m in \u001b[0;36m<cell line: 2>\u001b[0;34m()\u001b[0m\n\u001b[1;32m      1\u001b[0m \u001b[0;31m# Buuuut, Here you will get an error!\u001b[0m\u001b[0;34m\u001b[0m\u001b[0;34m\u001b[0m\u001b[0m\n\u001b[0;32m----> 2\u001b[0;31m \u001b[0ma_random_tuple\u001b[0m\u001b[0;34m[\u001b[0m\u001b[0;36m1\u001b[0m\u001b[0;34m]\u001b[0m \u001b[0;34m=\u001b[0m \u001b[0;36m3\u001b[0m\u001b[0;34m\u001b[0m\u001b[0;34m\u001b[0m\u001b[0m\n\u001b[0m",
            "\u001b[0;31mTypeError\u001b[0m: 'tuple' object does not support item assignment"
          ]
        }
      ]
    },
    {
      "cell_type": "code",
      "source": [
        "# So what CAN you do with a Tuple?\n",
        "# You tell us! Use the tuple you have.\n"
      ],
      "metadata": {
        "id": "_8_0rMrUFb2G"
      },
      "execution_count": null,
      "outputs": []
    },
    {
      "cell_type": "markdown",
      "source": [
        "**Dictionary** is interesting. You get to define your own indices!!\n"
      ],
      "metadata": {
        "id": "CvVRJKiMNDxl"
      }
    },
    {
      "cell_type": "code",
      "source": [
        "# Here's the most basic dictionary:\n",
        "my_dict = {'Car': 'Audi', 'Bike': 'Honda'}\n",
        "print('Original Dictionary:', my_dict)\n",
        "\n",
        "# updating value of an existing key\n",
        "my_dict['Bike'] = 'Ducati'\n",
        "print('Updated Dictionary:', my_dict)\n",
        "\n",
        "# adding new value\n",
        "my_dict['Plane'] = 'Boeing'\n",
        "print('Updated Dictionary:', my_dict)\n",
        "\n",
        "# Now, add many elements of your choice to this dictionary\n",
        "\n",
        "# Try removing element at index 2\n",
        "\n",
        "# Now, return the element with the key 'Bike'\n",
        "\n",
        "# And, use any 3 other methods on this dictionary.\n",
        "\n"
      ],
      "metadata": {
        "id": "cSts-7xJLRZ5"
      },
      "execution_count": null,
      "outputs": []
    },
    {
      "cell_type": "markdown",
      "source": [
        "**Sets** are unordered and unindexed collections of items.\n",
        "\n",
        "Once a set is created, you cannot change its items, but you can remove items and add new items."
      ],
      "metadata": {
        "id": "iR7gL8mCLScR"
      }
    },
    {
      "cell_type": "code",
      "source": [
        "my_set = {\"apple\", \"banana\", \"cherry\"}\n",
        "print(my_set)\n",
        "\n",
        "# As in the sets you know from math, sets ignore duplicate values.\n",
        "my_set = {\"apple\", \"banana\", \"cherry\", \"apple\"}\n",
        "\n",
        "print(my_set)"
      ],
      "metadata": {
        "id": "IEUOUyk9Rm3k"
      },
      "execution_count": null,
      "outputs": []
    },
    {
      "cell_type": "markdown",
      "source": [
        "**Write a use of Sets**\n",
        "\n",
        "**Answer:**"
      ],
      "metadata": {
        "id": "FpTPXxffRBjs"
      }
    },
    {
      "cell_type": "markdown",
      "source": [
        "What do you get when you try to print different data types using print()?"
      ],
      "metadata": {
        "id": "y_G8JVPwKO2N"
      }
    },
    {
      "cell_type": "code",
      "source": [
        "# Try printing and use type() on a:\n",
        "# List\n",
        "\n",
        "# Dictionary\n",
        "\n",
        "# Set\n",
        "\n",
        "\n",
        "# and, once you are done with the Functions and classes section:\n",
        "# Function\n",
        "\n",
        "# Class object\n"
      ],
      "metadata": {
        "id": "VLwrEttmOYfC"
      },
      "execution_count": null,
      "outputs": []
    },
    {
      "cell_type": "markdown",
      "source": [
        "##expressions"
      ],
      "metadata": {
        "id": "5fs5xQwE9obV"
      }
    },
    {
      "cell_type": "markdown",
      "source": [
        "**Range** in Python generates a sequence of numbers starting at (inclusive), stopping at (not inclusive) and with a step that you ask.\n"
      ],
      "metadata": {
        "id": "bfQc7A7t92lf"
      }
    },
    {
      "cell_type": "code",
      "source": [
        "print(list(range(-222, 3, 7)))"
      ],
      "metadata": {
        "colab": {
          "base_uri": "https://localhost:8080/"
        },
        "id": "-Y1bxh8PWU19",
        "outputId": "6f808279-10a9-487c-978e-4413a82f57af"
      },
      "execution_count": null,
      "outputs": [
        {
          "output_type": "stream",
          "name": "stdout",
          "text": [
            "[-222, -215, -208, -201, -194, -187, -180, -173, -166, -159, -152, -145, -138, -131, -124, -117, -110, -103, -96, -89, -82, -75, -68, -61, -54, -47, -40, -33, -26, -19, -12, -5, 2]\n"
          ]
        }
      ]
    },
    {
      "cell_type": "code",
      "source": [
        "# Print a range of numbers starting with 2024, ending before 666, with step 17.\n"
      ],
      "metadata": {
        "colab": {
          "base_uri": "https://localhost:8080/"
        },
        "id": "KY8DyFYhW1_D",
        "outputId": "df4db2af-a00b-4fef-e001-33d260de2d07"
      },
      "execution_count": null,
      "outputs": [
        {
          "output_type": "stream",
          "name": "stdout",
          "text": [
            "[2024, 2007, 1990, 1973, 1956, 1939, 1922, 1905, 1888, 1871, 1854, 1837, 1820, 1803, 1786, 1769, 1752, 1735, 1718, 1701, 1684, 1667, 1650, 1633, 1616, 1599, 1582, 1565, 1548, 1531, 1514, 1497, 1480, 1463, 1446, 1429, 1412, 1395, 1378, 1361, 1344, 1327, 1310, 1293, 1276, 1259, 1242, 1225, 1208, 1191, 1174, 1157, 1140, 1123, 1106, 1089, 1072, 1055, 1038, 1021, 1004, 987, 970, 953, 936, 919, 902, 885, 868, 851, 834, 817, 800, 783, 766, 749, 732, 715, 698, 681]\n"
          ]
        }
      ]
    },
    {
      "cell_type": "code",
      "source": [
        "# You can use Python as your personal expression calculator!\n",
        "a = 12\n",
        "b = 5\n",
        "\n",
        "c = (a ** 2 + b ** 2) ** 0.5\n",
        "\n",
        "print(c)"
      ],
      "metadata": {
        "colab": {
          "base_uri": "https://localhost:8080/"
        },
        "id": "Z2Mcw7NZ6fUf",
        "outputId": "cc8e15df-62c1-4037-984d-15d036216454"
      },
      "execution_count": null,
      "outputs": [
        {
          "output_type": "stream",
          "name": "stdout",
          "text": [
            "13.0\n"
          ]
        }
      ]
    },
    {
      "cell_type": "code",
      "source": [
        "# Write expressions to get the quadratic roots of an equation,\n",
        "# when given its coefficients.\n"
      ],
      "metadata": {
        "colab": {
          "base_uri": "https://localhost:8080/"
        },
        "id": "mZ7KzpQnWPfJ",
        "outputId": "7e38de94-d150-458e-a12f-2f551df64369"
      },
      "execution_count": null,
      "outputs": [
        {
          "output_type": "stream",
          "name": "stdout",
          "text": [
            "18.166247903553998 -48.166247903553995\n",
            "The two roots of 5x^2 + 6x -7 are 18.166247903553998 and -48.166247903553995\n",
            "The two roots of 5x^2 + 6x -7 are  18.166 and -48.166\n"
          ]
        }
      ]
    },
    {
      "cell_type": "markdown",
      "source": [
        "**Modulus Operations**\n",
        "\n",
        "We know the basic modulus. Returns remainder.\n",
        "\n",
        "Python has the operator % for this."
      ],
      "metadata": {
        "id": "5X2tlMyaWg0G"
      }
    },
    {
      "cell_type": "code",
      "source": [
        "print(111 % 4)"
      ],
      "metadata": {
        "colab": {
          "base_uri": "https://localhost:8080/"
        },
        "id": "ivdJ2egsYKyq",
        "outputId": "ba382b2b-b2da-4e7a-b4df-21352987f4c8"
      },
      "execution_count": null,
      "outputs": [
        {
          "output_type": "stream",
          "name": "stdout",
          "text": [
            "3\n"
          ]
        }
      ]
    },
    {
      "cell_type": "code",
      "source": [
        "# But it also supports negative dividend and or divisor!\n",
        "# Experiment here! What is happening? Why?\n",
        "\n",
        "# Try float dividends!\n"
      ],
      "metadata": {
        "id": "DXPSWcv1YYvL"
      },
      "execution_count": null,
      "outputs": []
    },
    {
      "cell_type": "code",
      "source": [
        "# And, here's some popular division operands\n",
        "print(1234 / 6) # Decimals!\n",
        "\n",
        "print(1234 // 6) # Only integer. Quotient."
      ],
      "metadata": {
        "colab": {
          "base_uri": "https://localhost:8080/"
        },
        "id": "wzB7Ojs3Y1-G",
        "outputId": "a8ed2a1e-cafd-4909-b31c-af66d36eacf3"
      },
      "execution_count": null,
      "outputs": [
        {
          "output_type": "stream",
          "name": "stdout",
          "text": [
            "205.66666666666666\n",
            "205\n"
          ]
        }
      ]
    },
    {
      "cell_type": "markdown",
      "source": [
        "##slicing & dicing"
      ],
      "metadata": {
        "id": "sPlkbXCe7aS_"
      }
    },
    {
      "cell_type": "markdown",
      "source": [
        "Indexing in Strings and Lists will act the same.\n",
        "\n",
        "0 to length-1.\n",
        "\n",
        "Major difference? You cannot change a letter in the String but you can change a List element knowing its index.\n",
        "\n",
        "**Negative indices** in Python are something very fun though!"
      ],
      "metadata": {
        "id": "Nwe8yxgsLiHE"
      }
    },
    {
      "cell_type": "code",
      "source": [
        "\"\"\"\n",
        "This is what indices of Strings and Lists look like\n",
        " +---+---+---+---+---+---+\n",
        " | P | y | t | h | o | n |\n",
        " +---+---+---+---+---+---+\n",
        " 0   1   2   3   4   5   6\n",
        "-6  -5  -4  -3  -2  -1\n",
        "\"\"\"\n"
      ],
      "metadata": {
        "id": "ILC37r8eCnXS"
      },
      "execution_count": null,
      "outputs": []
    },
    {
      "cell_type": "code",
      "source": [
        "# Some string slicing. Try and understand what is happening here,\n",
        "# and do excuse my variable name.\n",
        "x = \"Hello World\"\n",
        "print(x)\n",
        "print(x[1])\n",
        "print(x[-1])\n",
        "print(x[-3])\n",
        "print(x[4:8])\n",
        "print(x[:8])\n",
        "print(x[7:])\n",
        "print(x[:-2])"
      ],
      "metadata": {
        "colab": {
          "base_uri": "https://localhost:8080/"
        },
        "id": "a4tFcVVpR9AQ",
        "outputId": "63237e6a-7aef-469e-f29d-98b78f92f544"
      },
      "execution_count": null,
      "outputs": [
        {
          "output_type": "stream",
          "name": "stdout",
          "text": [
            "Hello World\n",
            "e\n",
            "d\n",
            "r\n",
            "o Wo\n",
            "Hello Wo\n",
            "orld\n",
            "Hello Wor\n"
          ]
        }
      ]
    },
    {
      "cell_type": "code",
      "source": [
        "# Now, print the last 5 letters in the string x using negative indices.\n",
        "\n",
        "# How about the first 3?\n"
      ],
      "metadata": {
        "id": "nGhy4dBoSSZ6"
      },
      "execution_count": null,
      "outputs": []
    },
    {
      "cell_type": "markdown",
      "source": [
        "##indentation & conditions"
      ],
      "metadata": {
        "id": "FCH_6knDAXAN"
      }
    },
    {
      "cell_type": "markdown",
      "source": [
        "Python has no curly braces. We convey blocks using indents, i.e. spaces.\n",
        "\n",
        "2 or 4 works. But be consistent!\n",
        "\n",
        "\n",
        "---\n",
        "\n",
        "\n",
        "\n",
        "if else works as usual here, but instead of else if(), we get the cutesy elif!\n",
        "\n",
        "Aaaand, it gets more readable and english like. Not many brackets needed.\n",
        "\n",
        "You CAN put if condition in a bracket, but you don't HAVE to."
      ],
      "metadata": {
        "id": "SONI_E95LsJQ"
      }
    },
    {
      "cell_type": "code",
      "source": [
        "attendancePercentage = 70\n",
        "# In the code below the two print statements are one block.\n",
        "# They are indented by 4-spaces to convey that\n",
        "\n",
        "if attendancePercentage < 75:\n",
        "    print(\"Attendance requirement for Merit certificate not met\")\n",
        "    print(\"Participation Certificate only\")\n",
        "\n",
        "elif 70 <= attendancePercentage < 80:\n",
        "    print(\"Attendance sufficient!! Good job. You know people in college.\")\n",
        "    print(\"You may pass.\")\n",
        "\n",
        "else:\n",
        "    print(\"AMAZING ATTENDANCE. HOW DO YOU DO IT???\")"
      ],
      "metadata": {
        "colab": {
          "base_uri": "https://localhost:8080/"
        },
        "id": "H9q3EgEMGmeI",
        "outputId": "63fdc178-a343-45db-a595-aa7b02032076"
      },
      "execution_count": null,
      "outputs": [
        {
          "output_type": "stream",
          "name": "stdout",
          "text": [
            "Attendance requirement for Merit certificate not met\n",
            "Participation Certificate only\n"
          ]
        }
      ]
    },
    {
      "cell_type": "code",
      "source": [
        "# Indents are SUPER important. Because if you clearly mess up, error!\n",
        "\n",
        "if attendancePercentage < 75:\n",
        "    print(\"Attendance requirement for Merit certificate not met\")\n",
        "print(\"Participation Certificate only\")\n",
        "\n",
        "elif 70 <= attendancePercentage < 80:\n",
        "    print(\"Attendance sufficient!! Good job. You know people in college.\")\n",
        "    print(\"You may pass.\")\n",
        "\n",
        "else:\n",
        "    print(\"AMAZING ATTENDANCE. HOW DO YOU DO IT???\")\n"
      ],
      "metadata": {
        "colab": {
          "base_uri": "https://localhost:8080/",
          "height": 106
        },
        "id": "29a0XeAOHkYH",
        "outputId": "44295096-54c3-4ad3-d7e2-9dbba163069c"
      },
      "execution_count": null,
      "outputs": [
        {
          "output_type": "error",
          "ename": "SyntaxError",
          "evalue": "invalid syntax (<ipython-input-9-6620fad06c2f>, line 7)",
          "traceback": [
            "\u001b[0;36m  File \u001b[0;32m\"<ipython-input-9-6620fad06c2f>\"\u001b[0;36m, line \u001b[0;32m7\u001b[0m\n\u001b[0;31m    elif 70 <= attendancePercentage < 80:\u001b[0m\n\u001b[0m    ^\u001b[0m\n\u001b[0;31mSyntaxError\u001b[0m\u001b[0;31m:\u001b[0m invalid syntax\n"
          ]
        }
      ]
    },
    {
      "cell_type": "markdown",
      "source": [
        "But you can also mess up worse. EASILY.\n",
        "\n",
        "It could be something you might not catch in time. Look at your code, and test it carefully before relying on it.\n"
      ],
      "metadata": {
        "id": "l5wXh9PXKsbv"
      }
    },
    {
      "cell_type": "code",
      "source": [
        "# A Python special, you can:\n",
        "num = 19\n",
        "17 < num < 21"
      ],
      "metadata": {
        "colab": {
          "base_uri": "https://localhost:8080/"
        },
        "id": "SdUaSkenLyZo",
        "outputId": "4622c019-7979-4b10-b76a-656b5bc63d4f"
      },
      "execution_count": null,
      "outputs": [
        {
          "output_type": "execute_result",
          "data": {
            "text/plain": [
              "True"
            ]
          },
          "metadata": {},
          "execution_count": 15
        }
      ]
    },
    {
      "cell_type": "markdown",
      "source": [
        "##loops"
      ],
      "metadata": {
        "id": "L42g5YmP8LFF"
      }
    },
    {
      "cell_type": "markdown",
      "source": [
        "**for** loops in Python, especially operating on lists, MUST be treated differently compared to C++/Java/C.\n",
        "\n",
        "You say:\n",
        "\n",
        "for element in list_of_elements\n",
        "\n",
        "  \n",
        "but please don't try:\n",
        "\n",
        " for element in range(len(list_of_elements))."
      ],
      "metadata": {
        "id": "iGh_Ukm9N0Ty"
      }
    },
    {
      "cell_type": "markdown",
      "source": [
        "**Write here why not!**\n",
        "\n",
        "**Answer:**"
      ],
      "metadata": {
        "id": "7XItOlZoOsRw"
      }
    },
    {
      "cell_type": "code",
      "source": [
        "names = [\"Atharv\", \"Hirali\", \"Dhvani\", \"Divyam\", \"Taran\", \"Saumya\"]\n",
        "\n",
        "# Implement a for loop here to get odd elements of the list of names given.\n",
        "# Try using zip()\n",
        "\n",
        "# enumerate()\n"
      ],
      "metadata": {
        "id": "BLiQe6NCOt2W"
      },
      "execution_count": null,
      "outputs": []
    },
    {
      "cell_type": "markdown",
      "source": [
        "Now **while** loops!"
      ],
      "metadata": {
        "id": "Z1FrJ6IMN3sC"
      }
    },
    {
      "cell_type": "code",
      "source": [
        "# You'd already know while loops. Nothing new there.\n",
        "# Write a while loop to print numbers from 0 to 4\n"
      ],
      "metadata": {
        "id": "hLkyea8hLetw"
      },
      "execution_count": null,
      "outputs": []
    },
    {
      "cell_type": "markdown",
      "source": [
        "Python has **break** and **continue** statements."
      ],
      "metadata": {
        "id": "F11KgMjNMIBl"
      }
    },
    {
      "cell_type": "markdown",
      "source": [
        "##functions!"
      ],
      "metadata": {
        "id": "tZGhcaotL-eu"
      }
    },
    {
      "cell_type": "markdown",
      "source": [
        "Python treats us all like adults. It has a lot of (sometimes too much) trust in us.\n",
        "\n",
        "We can redefine/overwrite many of its inbuilt functions!"
      ],
      "metadata": {
        "id": "H7MwIqkYAjq9"
      }
    },
    {
      "cell_type": "code",
      "source": [
        "# Say sum().\n",
        "\n",
        "sample_list = [1, 2, 3, 4, 5]\n",
        "\n",
        "print(sum(sample_list))"
      ],
      "metadata": {
        "colab": {
          "base_uri": "https://localhost:8080/"
        },
        "id": "Q8X8_eJuNJWb",
        "outputId": "910d5ef7-adcf-4f80-c857-fda5fa9088f1"
      },
      "execution_count": null,
      "outputs": [
        {
          "output_type": "stream",
          "name": "stdout",
          "text": [
            "15\n"
          ]
        }
      ]
    },
    {
      "cell_type": "code",
      "source": [
        "# You can narrow down sum to:\n",
        "\n",
        "sum = lambda n1, n2: n1 + n2\n",
        "\n",
        "# So now:\n",
        "print(sum(sample_list))"
      ],
      "metadata": {
        "colab": {
          "base_uri": "https://localhost:8080/",
          "height": 176
        },
        "id": "1qliBdOtNSqk",
        "outputId": "2bab2cad-376e-4af6-8786-bc32b9f26405"
      },
      "execution_count": null,
      "outputs": [
        {
          "output_type": "error",
          "ename": "TypeError",
          "evalue": "<lambda>() missing 1 required positional argument: 'n2'",
          "traceback": [
            "\u001b[0;31m---------------------------------------------------------------------------\u001b[0m",
            "\u001b[0;31mTypeError\u001b[0m                                 Traceback (most recent call last)",
            "\u001b[0;32m<ipython-input-19-0cdc69ea94dd>\u001b[0m in \u001b[0;36m<cell line: 6>\u001b[0;34m()\u001b[0m\n\u001b[1;32m      4\u001b[0m \u001b[0;34m\u001b[0m\u001b[0m\n\u001b[1;32m      5\u001b[0m \u001b[0;31m# So now:\u001b[0m\u001b[0;34m\u001b[0m\u001b[0;34m\u001b[0m\u001b[0m\n\u001b[0;32m----> 6\u001b[0;31m \u001b[0mprint\u001b[0m\u001b[0;34m(\u001b[0m\u001b[0msum\u001b[0m\u001b[0;34m(\u001b[0m\u001b[0msample_list\u001b[0m\u001b[0;34m)\u001b[0m\u001b[0;34m)\u001b[0m\u001b[0;34m\u001b[0m\u001b[0;34m\u001b[0m\u001b[0m\n\u001b[0m",
            "\u001b[0;31mTypeError\u001b[0m: <lambda>() missing 1 required positional argument: 'n2'"
          ]
        }
      ]
    },
    {
      "cell_type": "markdown",
      "source": [
        "So let's not abuse this? Name carefully."
      ],
      "metadata": {
        "id": "9uJNiMNvNl5J"
      }
    },
    {
      "cell_type": "markdown",
      "source": [
        "Importing and using functions from Python modules is a necessity.\n",
        "\n",
        "(ML nahi toh nahi hoga)"
      ],
      "metadata": {
        "id": "ty0TNObGgi6L"
      }
    },
    {
      "cell_type": "code",
      "source": [
        "#Calcute and print the product of a list, using reduce!\n",
        "\n",
        "from functools import reduce\n",
        "def multiplication(x, y):\n",
        "    return x * y\n",
        "\n",
        "try_on_list = [12, 33, 2, 4]\n"
      ],
      "metadata": {
        "id": "kEhAaYPZSwK_"
      },
      "execution_count": null,
      "outputs": []
    },
    {
      "cell_type": "code",
      "source": [
        "# First, write a lambda function taking the number n,\n",
        "# that returns n to the power number of digits of n. (Try converting to string!)\n",
        "len_power = lambda x: x ** len(str(x))\n",
        "\n",
        "from itertools import filter, map\n",
        "# Yeh kya karte hai? Just hover.\n",
        "# Hover over them and Colab, our saviour, will tell you.\n",
        "# And if you need more ref, I beg of you, OFFICIAL DOCS JAAO!!\n",
        "\n",
        "itertools_lagao = [1, 23, 2, 45, 4, 221, 11]\n",
        "\n",
        "# Use these to:\n",
        "# Return a list of only the odd numbers\n",
        "\n",
        "# Apply your len_power function on each element and return a list of the answers\n"
      ],
      "metadata": {
        "id": "Zx6bXygATD8Q"
      },
      "execution_count": null,
      "outputs": []
    },
    {
      "cell_type": "markdown",
      "source": [
        "Now, write your own function!"
      ],
      "metadata": {
        "id": "6t_8JAOpMoMn"
      }
    },
    {
      "cell_type": "code",
      "source": [
        "# Write a recursive function to check if a given string is a palindrome or not.\n"
      ],
      "metadata": {
        "id": "bRHFOXpvMm0f"
      },
      "execution_count": null,
      "outputs": []
    },
    {
      "cell_type": "markdown",
      "source": [
        "##classes & OOP"
      ],
      "metadata": {
        "id": "_b_TqiPKAfYJ"
      }
    },
    {
      "cell_type": "code",
      "source": [
        "# Write a class in Python for a point (1D)\n",
        "# Use functions like __str__ for it. Find out what they do ;)\n",
        "\n",
        "# Extend it for a Line. (2D)\n"
      ],
      "metadata": {
        "id": "mLYTWWCkTkVD"
      },
      "execution_count": null,
      "outputs": []
    },
    {
      "cell_type": "markdown",
      "source": [
        "##write some code!"
      ],
      "metadata": {
        "id": "L4G7bDwODLPC"
      }
    },
    {
      "cell_type": "markdown",
      "source": [
        "Best practices:\n",
        "\n",
        "Code must be for HUMANS. Make it:\n",
        "\n",
        "0. Correct\n",
        "1. Readable: Easy to see if it is correct.\n",
        "2. Changeable: Easy to change when what is correct changes.\n",
        "3. Testable: See if the code is correct when what is correct changes.\n",
        "\n",
        "And please:\n",
        "*    NEVER name variables a/b/c. No one will get what it is trying to do in an hour\n",
        "*    Break things into functions whenever you think you need to. At this stage, more than you think. Debugging in a long main: NIGHTMARE.\n",
        "*    Spacing and formatting: If you read code thatiswrittenlikethis, you will not WANT to read it. Whenever uncertain, follow https://peps.python.org/pep-0008/\n"
      ],
      "metadata": {
        "id": "PqUah88kDQTy"
      }
    },
    {
      "cell_type": "markdown",
      "source": [
        "###Armstrong number"
      ],
      "metadata": {
        "id": "519SaHFwDUUh"
      }
    },
    {
      "cell_type": "markdown",
      "source": [
        "Armstrong number is a number that is equal to the sum of the nth power of its digits. Here, n is the number of digits of the Armstrong number.\n",
        "\n",
        "For example 0, 1, 153, 370, 371 and 407 are the Armstrong numbers.\n",
        "\n",
        "Say, 153.\n",
        "1^3 + 5^3 + 3^3 = 1 + 125 + 27 = 153!\n",
        "Armstrong."
      ],
      "metadata": {
        "id": "1zAdRLB6OJTt"
      }
    },
    {
      "cell_type": "code",
      "source": [
        "# Follow good practices and write code that accepts start and limit integers,\n",
        "# and returns a list of Armstrong numbers between them (both inclusive).\n",
        "\n"
      ],
      "metadata": {
        "id": "iux8ioDuOKjS"
      },
      "execution_count": null,
      "outputs": []
    },
    {
      "cell_type": "markdown",
      "source": [
        "###Collatz sequence"
      ],
      "metadata": {
        "id": "DngpGf7uDSK-"
      }
    },
    {
      "cell_type": "markdown",
      "source": [
        "Given a number, if it is even, the next number in collatz sequence is n/2. If it is odd, the next number is 3*n + 1.\n",
        "\n",
        "If you do this enough times, you will DEFINITELY end with a sequence of 4, 2, 1.\n",
        "\n",
        "(Search up how later, confusing but interesting)\n",
        "\n",
        "Return the collatz sequence of the input number, ending with the 4, 2, 1."
      ],
      "metadata": {
        "id": "ZP0WxAIUOJ8p"
      }
    },
    {
      "cell_type": "code",
      "source": [
        "# Taking one input number, return its Collatz sequence in a list.\n",
        "# Ending with the 4, 2, 1\n"
      ],
      "metadata": {
        "id": "gciXSk8WMpf8"
      },
      "execution_count": null,
      "outputs": []
    },
    {
      "cell_type": "markdown",
      "source": [
        "[Link ](https://drive.google.com/file/d/1ggFFKLb7D5_jO0FNeabZud4EJfmJlbkW/view?usp=sharing)to a good Python CheatSheet for reference!\n",
        "\n",
        "(It has easy, to very difficult stuff. Use whatever you need. And if you want the link to the *pirated* version, ping us 👀)"
      ],
      "metadata": {
        "id": "FtB5FZSQMY7i"
      }
    },
    {
      "cell_type": "markdown",
      "source": [
        "# EDA"
      ],
      "metadata": {
        "id": "FPqBv5yE7hPH"
      }
    },
    {
      "cell_type": "markdown",
      "source": [
        "Okay, now let's head to EDA!"
      ],
      "metadata": {
        "id": "9JcS74Guv15H"
      }
    },
    {
      "cell_type": "markdown",
      "source": [
        "A nice place to start with would be the definition of EDA. Exploratory Data Analysis refers to the critical process of performing initial investigations on data so as to discover patterns, to spot anomalies, to test hypothesis and to check assumptions with the help of summary statistics and graphical representations. It is used by data scientists to analyze and investigate data sets and summarize their main characteristics, often employing data visualisation methods.\n",
        "\n",
        "Above each code cell, instructions and resources have been given. Go through the resources, then implement the code accordingly. Feel free to add extra cells to play around on your own as well :p"
      ],
      "metadata": {
        "id": "ABxRZNKK1bD1"
      }
    },
    {
      "cell_type": "markdown",
      "source": [
        "##installing libraries and importing them"
      ],
      "metadata": {
        "id": "JF_1_88JgaFY"
      }
    },
    {
      "cell_type": "markdown",
      "source": [
        "Some libraries like numpy and pandas are already pre installed on Colab. Some need to explicitly installed. A really cool data exploration library called ydata-profiling falls in the latter category. So use the appropriate pip command to install it."
      ],
      "metadata": {
        "id": "peb67dMAkMg-"
      }
    },
    {
      "cell_type": "code",
      "execution_count": null,
      "metadata": {
        "id": "ORep3J4JePys",
        "colab": {
          "base_uri": "https://localhost:8080/"
        },
        "outputId": "1fb317c7-4fb3-40e8-d078-c40fc8647ebd"
      },
      "outputs": [
        {
          "output_type": "stream",
          "name": "stdout",
          "text": [
            "\u001b[?25l     \u001b[90m━━━━━━━━━━━━━━━━━━━━━━━━━━━━━━━━━━━━━━━━\u001b[0m \u001b[32m0.0/357.3 kB\u001b[0m \u001b[31m?\u001b[0m eta \u001b[36m-:--:--\u001b[0m\r\u001b[2K     \u001b[91m━━━━━━━━━━\u001b[0m\u001b[90m╺\u001b[0m\u001b[90m━━━━━━━━━━━━━━━━━━━━━━━━━━━━━\u001b[0m \u001b[32m92.2/357.3 kB\u001b[0m \u001b[31m2.7 MB/s\u001b[0m eta \u001b[36m0:00:01\u001b[0m\r\u001b[2K     \u001b[90m━━━━━━━━━━━━━━━━━━━━━━━━━━━━━━━━━━━━━━━\u001b[0m \u001b[32m357.3/357.3 kB\u001b[0m \u001b[31m5.6 MB/s\u001b[0m eta \u001b[36m0:00:00\u001b[0m\n",
            "\u001b[?25h\u001b[?25l     \u001b[90m━━━━━━━━━━━━━━━━━━━━━━━━━━━━━━━━━━━━━━━━\u001b[0m \u001b[32m0.0/102.7 kB\u001b[0m \u001b[31m?\u001b[0m eta \u001b[36m-:--:--\u001b[0m\r\u001b[2K     \u001b[90m━━━━━━━━━━━━━━━━━━━━━━━━━━━━━━━━━━━━━━━\u001b[0m \u001b[32m102.7/102.7 kB\u001b[0m \u001b[31m9.7 MB/s\u001b[0m eta \u001b[36m0:00:00\u001b[0m\n",
            "\u001b[?25h  Preparing metadata (setup.py) ... \u001b[?25l\u001b[?25hdone\n",
            "\u001b[2K     \u001b[90m━━━━━━━━━━━━━━━━━━━━━━━━━━━━━━━━━━━━━━\u001b[0m \u001b[32m679.5/679.5 kB\u001b[0m \u001b[31m21.9 MB/s\u001b[0m eta \u001b[36m0:00:00\u001b[0m\n",
            "\u001b[2K     \u001b[90m━━━━━━━━━━━━━━━━━━━━━━━━━━━━━━━━━━━━━━\u001b[0m \u001b[32m296.5/296.5 kB\u001b[0m \u001b[31m17.8 MB/s\u001b[0m eta \u001b[36m0:00:00\u001b[0m\n",
            "\u001b[2K     \u001b[90m━━━━━━━━━━━━━━━━━━━━━━━━━━━━━━━━━━━━━━━━\u001b[0m \u001b[32m4.7/4.7 MB\u001b[0m \u001b[31m42.6 MB/s\u001b[0m eta \u001b[36m0:00:00\u001b[0m\n",
            "\u001b[?25h  Building wheel for htmlmin (setup.py) ... \u001b[?25l\u001b[?25hdone\n"
          ]
        }
      ],
      "source": [
        "!pip install ydata-profiling -q"
      ]
    },
    {
      "cell_type": "markdown",
      "source": [
        "Mount your Google Drive onto this notebook."
      ],
      "metadata": {
        "id": "Nu6t8LW8kn3o"
      }
    },
    {
      "cell_type": "code",
      "source": [
        "from google.colab import drive\n",
        "drive.mount('/content/drive')"
      ],
      "metadata": {
        "colab": {
          "base_uri": "https://localhost:8080/"
        },
        "id": "KWOe8ZeWmCii",
        "outputId": "f910d9eb-c5e8-4ece-f15c-570657141995"
      },
      "execution_count": 2,
      "outputs": [
        {
          "output_type": "stream",
          "name": "stdout",
          "text": [
            "Drive already mounted at /content/drive; to attempt to forcibly remount, call drive.mount(\"/content/drive\", force_remount=True).\n"
          ]
        }
      ]
    },
    {
      "cell_type": "markdown",
      "source": [
        "Import basic libraries."
      ],
      "metadata": {
        "id": "jVexnJcJ1iFa"
      }
    },
    {
      "cell_type": "code",
      "source": [
        "import pandas as pd\n",
        "import numpy as np\n",
        "import matplotlib.pyplot as plt\n",
        "import seaborn as sns\n",
        "import ydata_profiling as pp"
      ],
      "metadata": {
        "id": "6ZdBOLzXmV_r"
      },
      "execution_count": null,
      "outputs": []
    },
    {
      "cell_type": "markdown",
      "source": [
        "##loading the dataset\n",
        "\n",
        "The dataset we wanna nitpick apart this week is one pertaining to crabs. Use this link to download it:\n",
        "\n",
        "https://drive.google.com/drive/folders/1DqJB3_B-8WyS9z-oEQJm1ayHJalb3xFv?usp=sharing\n",
        "\n",
        "Upload it to your Google Drive. Then read it into a variable using the pandas library."
      ],
      "metadata": {
        "id": "jgsYRWHmhQAO"
      }
    },
    {
      "cell_type": "code",
      "source": [
        "# read dataset into a variable"
      ],
      "metadata": {
        "id": "m8Siqb9knB2s"
      },
      "execution_count": null,
      "outputs": []
    },
    {
      "cell_type": "markdown",
      "source": [
        "View the first 5 rows of this DataFrame to see if it has been stored correctly."
      ],
      "metadata": {
        "id": "uAr01C4mlJZU"
      }
    },
    {
      "cell_type": "code",
      "source": [
        "# write code here"
      ],
      "metadata": {
        "id": "5gNBlroulIw8"
      },
      "execution_count": null,
      "outputs": []
    },
    {
      "cell_type": "markdown",
      "source": [
        "Right, so now you have your entire DataFrame residing in a variable. But again, what even is a DataFrame? Just speed through the below article.\n",
        "\n",
        "https://www.databricks.com/glossary/what-are-dataframes\n",
        "\n"
      ],
      "metadata": {
        "id": "_YMrWRL3idix"
      }
    },
    {
      "cell_type": "markdown",
      "source": [
        "##basic EDA\n",
        "\n",
        "Here, we aim to get a basic overview of the dataset.\n"
      ],
      "metadata": {
        "id": "n35a9N5Sld_M"
      }
    },
    {
      "cell_type": "markdown",
      "source": [
        "List the columns in this dataset."
      ],
      "metadata": {
        "id": "VnyHtyu7lyd7"
      }
    },
    {
      "cell_type": "code",
      "source": [
        "# write code here"
      ],
      "metadata": {
        "id": "RF0YI22Dnh7N"
      },
      "execution_count": null,
      "outputs": []
    },
    {
      "cell_type": "markdown",
      "source": [
        "You may have noticed that the 'id' column is just indexing the rows in the DataFrame. But we don't really need that, as pandas very neatly handles that for us. So drop that column."
      ],
      "metadata": {
        "id": "sSDgAbBJpyo-"
      }
    },
    {
      "cell_type": "code",
      "source": [
        "# drop the column, then view its first 5 values"
      ],
      "metadata": {
        "id": "GRINhc60pvll"
      },
      "execution_count": null,
      "outputs": []
    },
    {
      "cell_type": "markdown",
      "source": [
        "Display the the number of rows and columns in this dataset."
      ],
      "metadata": {
        "id": "C-pajIWIl55Z"
      }
    },
    {
      "cell_type": "code",
      "source": [
        "# write code here"
      ],
      "metadata": {
        "id": "8N1d8_kamA1D"
      },
      "execution_count": null,
      "outputs": []
    },
    {
      "cell_type": "markdown",
      "source": [
        "Use the info() function to get, well, info about it."
      ],
      "metadata": {
        "id": "aQcIiVrcmFNX"
      }
    },
    {
      "cell_type": "code",
      "source": [
        "# write code here"
      ],
      "metadata": {
        "id": "bJS3tII7mmBO"
      },
      "execution_count": null,
      "outputs": []
    },
    {
      "cell_type": "markdown",
      "source": [
        "No null values. How lucky."
      ],
      "metadata": {
        "id": "SaOk9AOzzs5c"
      }
    },
    {
      "cell_type": "markdown",
      "source": [
        "What are the statistics of this data? Use describe() function to view them. Google what each of those row headers mean."
      ],
      "metadata": {
        "id": "0WdsqJULmvjp"
      }
    },
    {
      "cell_type": "code",
      "source": [
        "# write code here"
      ],
      "metadata": {
        "id": "vHDY9fnAnArD"
      },
      "execution_count": null,
      "outputs": []
    },
    {
      "cell_type": "markdown",
      "source": [
        "Write a function to print all the unique values in the columns of Sex and Age."
      ],
      "metadata": {
        "id": "kZ_ebv5bnhJS"
      }
    },
    {
      "cell_type": "code",
      "source": [
        "# write code here"
      ],
      "metadata": {
        "id": "BnE-2G3BnFGh"
      },
      "execution_count": null,
      "outputs": []
    },
    {
      "cell_type": "markdown",
      "source": [
        "List out the number of crabs belonging to each gender."
      ],
      "metadata": {
        "id": "bHbMaSPKyEFy"
      }
    },
    {
      "cell_type": "code",
      "source": [
        "# write code here"
      ],
      "metadata": {
        "id": "71mfDcbbyTiT"
      },
      "execution_count": null,
      "outputs": []
    },
    {
      "cell_type": "markdown",
      "source": [
        "If your output is correct, you'll find the dataset is decently well-balanced, although it is a bit skewed towards male crabs."
      ],
      "metadata": {
        "id": "FdxzyNmp_Ie6"
      }
    },
    {
      "cell_type": "markdown",
      "source": [
        "##pandas profiling"
      ],
      "metadata": {
        "id": "X3080G2QhD_Y"
      }
    },
    {
      "cell_type": "markdown",
      "source": [
        "Doing all the above for each dataset in separate cells gets boring fast. Enter ydata_profiling. You just have to feed a DataFrame to it, and it takes care of basic EDA (and then some more) for you. Resource:\n",
        "\n",
        "https://ydata-profiling.ydata.ai/docs/master/pages/getting_started/quickstart.html\n",
        "\n",
        "Run a Profile Report on our dataframe and just go through it."
      ],
      "metadata": {
        "id": "d_LdQ-m8hGmH"
      }
    },
    {
      "cell_type": "code",
      "source": [
        "# write code here"
      ],
      "metadata": {
        "id": "zF-gFEzOh7Bz"
      },
      "execution_count": null,
      "outputs": []
    },
    {
      "cell_type": "markdown",
      "source": [
        "A lot of what we did above manually gets handled automatically. Pretty cool, innit?\n",
        "\n",
        "Also, if you genuinely went through the report, you'll find that some crabs have height as zero. That doesn't make much sense.\n",
        "\n",
        "Drop all these apparently two dimensional crabs from the dataset. Get rid of all rows where height is zero."
      ],
      "metadata": {
        "id": "4Ubhzt3gh-QR"
      }
    },
    {
      "cell_type": "code",
      "source": [
        "# write code here"
      ],
      "metadata": {
        "id": "Xnvy65RwR4NR"
      },
      "execution_count": null,
      "outputs": []
    },
    {
      "cell_type": "markdown",
      "source": [
        "If done correctly, your DataFrame now will have shape (74027, 9). Check that below."
      ],
      "metadata": {
        "id": "PcrFNZtiToGi"
      }
    },
    {
      "cell_type": "code",
      "source": [
        "# write code here"
      ],
      "metadata": {
        "id": "ZhgQkDFkTntk"
      },
      "execution_count": null,
      "outputs": []
    },
    {
      "cell_type": "markdown",
      "source": [
        "##plotting some stuff out\n",
        "\n",
        "To explore data properly, data visualisation techniques are employed. What that essentially means that we're gonna plot some graphs and glean meaningful insights from them. We use the matplotlib library for this, and seaborn to make it look real pretty, for no one likes an ugly graph.\n",
        "\n",
        "\n"
      ],
      "metadata": {
        "id": "00PG10C6q6ah"
      }
    },
    {
      "cell_type": "markdown",
      "source": [
        "##bar charts"
      ],
      "metadata": {
        "id": "-Y_99EUk-TCL"
      }
    },
    {
      "cell_type": "markdown",
      "source": [
        "Plot a bar graph to view the average age of each sex. For help, refer:\n",
        "\n",
        "https://www.analyticsvidhya.com/blog/2021/08/understanding-bar-plots-in-python-beginners-guide-to-data-visualization/"
      ],
      "metadata": {
        "id": "47WGjw27ro8b"
      }
    },
    {
      "cell_type": "code",
      "source": [
        "# write the logic here before you actually plot the graph"
      ],
      "metadata": {
        "id": "pWCec0zNsley"
      },
      "execution_count": null,
      "outputs": []
    },
    {
      "cell_type": "markdown",
      "source": [
        "x axis will contain Sex, and y axis has the average age."
      ],
      "metadata": {
        "id": "Y3ZreZlGzH9l"
      }
    },
    {
      "cell_type": "code",
      "source": [
        "# plot the graph here"
      ],
      "metadata": {
        "id": "SLlvELk5v9uY"
      },
      "execution_count": null,
      "outputs": []
    },
    {
      "cell_type": "markdown",
      "source": [
        "As with humans, it seems that crabs have their female sex having longer lives on average. Still, all genders have a pretty short lifespan. Shame.  "
      ],
      "metadata": {
        "id": "NCeJkyT1xrWG"
      }
    },
    {
      "cell_type": "markdown",
      "source": [
        "Anyways, the above bar graph of Average Age and Sex is not the most comprehensive way to analyse such data."
      ],
      "metadata": {
        "id": "139j-T9Sybfr"
      }
    },
    {
      "cell_type": "markdown",
      "source": [
        "##KDE plots"
      ],
      "metadata": {
        "id": "34EXUQwy_RfA"
      }
    },
    {
      "cell_type": "markdown",
      "source": [
        "Now, we'll graph some of the other numeric data with age to try and get more information about it all relates. Display KDE plots of Age, Length, and Weight. For resources about a KDE plot:\n",
        "\n",
        "https://www.youtube.com/watch?v=DCgPRaIDYXA\n",
        "\n",
        "https://datagy.io/seaborn-kdeplot/\n",
        "\n",
        "Don't make three separate cells for each of these plots. All three plots should be visible in a single row."
      ],
      "metadata": {
        "id": "_-ILWXcfyzRQ"
      }
    },
    {
      "cell_type": "code",
      "source": [
        "# write code that yields output similar to the one shown below"
      ],
      "metadata": {
        "colab": {
          "base_uri": "https://localhost:8080/",
          "height": 683
        },
        "id": "FlLGlxui0ONc",
        "outputId": "cf9c85f3-2a69-4249-a2f0-a610154c4b00"
      },
      "execution_count": null,
      "outputs": [
        {
          "output_type": "execute_result",
          "data": {
            "text/plain": [
              "<Axes: xlabel='Weight', ylabel='Density'>"
            ]
          },
          "metadata": {},
          "execution_count": 19
        },
        {
          "output_type": "display_data",
          "data": {
            "text/plain": [
              "<Figure size 2000x1000 with 3 Axes>"
            ],
            "image/png": "[encoded data removed]"
          },
          "metadata": {}
        }
      ]
    },
    {
      "cell_type": "markdown",
      "source": [
        "##scatter plots"
      ],
      "metadata": {
        "id": "wylisMOY_3-4"
      }
    },
    {
      "cell_type": "markdown",
      "source": [
        "Make a scatterplot between Age and Diameter. Resources for the same:\n",
        "\n",
        "https://www.youtube.com/watch?v=4yz4cMXCkuw\n",
        "\n",
        "https://www.cuemath.com/data/scatter-plot/"
      ],
      "metadata": {
        "id": "m-hkpXjQBkCM"
      }
    },
    {
      "cell_type": "code",
      "source": [
        "# plot the graph here"
      ],
      "metadata": {
        "id": "STSreAqp_5xl"
      },
      "execution_count": null,
      "outputs": []
    },
    {
      "cell_type": "markdown",
      "source": [
        "## some more complex analysis"
      ],
      "metadata": {
        "id": "u2N1C7mBIS5B"
      }
    },
    {
      "cell_type": "markdown",
      "source": [
        "Use a function called corr(). Resource:\n",
        "\n",
        "https://data36.com/correlation-definition-calculation-corr-pandas/\n",
        "\n"
      ],
      "metadata": {
        "id": "YixxeCxVIYW_"
      }
    },
    {
      "cell_type": "code",
      "source": [
        "# write code here"
      ],
      "metadata": {
        "id": "LOKZiSKwIXLN"
      },
      "execution_count": null,
      "outputs": []
    },
    {
      "cell_type": "markdown",
      "source": [
        "If you've been paying attention, the Profile Report above already took care of this. This table basically tells you how every column correlate with each other. Closer the number is to 1, the more they mirror each other."
      ],
      "metadata": {
        "id": "XuU2v1CuJmNO"
      }
    },
    {
      "cell_type": "markdown",
      "source": [
        "From this report, it can be seen that Weight is extremely highly correlated with each of shucked weight, viscera weight and shell weight.\n",
        "\n",
        "To actually understand what this means, we first need to know what all this crab jargon actually is. So, on Googling, you will discover the following meanings:\n",
        "\n",
        "*   Weight - total teight\n",
        "*   Shucked - weight of meat only\n",
        "*   Viscera - gut weight, after bleeding\n",
        "*   Shell - weight after being dried\n",
        "\n",
        "Well, those are some pretty disgusting and gory definitions.\n",
        "\n",
        "Moving past that, we here find that some weight statistics is lost. What about the other potential body parts of a crab? Maybe we need them to accurately predict its (apparently very short) lifespan? Maybe it is actually needed in some future model we choose to implement?\n",
        "\n",
        "So, make a new column called \"Lost Weight\". Use the following formula to populate every row of it:\n",
        "\n",
        "\n",
        "\n",
        "```\n",
        "Weight - (Shucked + Viscera + Shell)\n",
        "```\n"
      ],
      "metadata": {
        "id": "iuNkvl5fKQ2O"
      }
    },
    {
      "cell_type": "markdown",
      "source": [
        "If this operation gives a value of Lost Weight that is less than zero, then assign zero to that row's Lost Weight value. Otherwise, assign one to it."
      ],
      "metadata": {
        "id": "xh-BMhAzUNoN"
      }
    },
    {
      "cell_type": "markdown",
      "source": [
        "Also, ensure that this column is added in between Shell Weight and Age."
      ],
      "metadata": {
        "id": "K3gvAHbsVOHc"
      }
    },
    {
      "cell_type": "code",
      "source": [
        "# write code here"
      ],
      "metadata": {
        "id": "TfMiPDwzNeC0"
      },
      "execution_count": null,
      "outputs": []
    },
    {
      "cell_type": "markdown",
      "source": [
        "To see how the crabs having no Lost Weight compare with those having some with respect to age, lets draw a violin plot. Resources:\n",
        "\n",
        "https://www.youtube.com/watch?v=PNNLefP974M\n",
        "\n",
        "https://seaborn.pydata.org/generated/seaborn.violinplot.html\n",
        "\n",
        "Code it below now. Here, x is the Lost Weight, and y is the Age."
      ],
      "metadata": {
        "id": "x67-hzNzW1Wl"
      }
    },
    {
      "cell_type": "code",
      "source": [
        "# plot the graph here"
      ],
      "metadata": {
        "id": "WPeEjrXSYbue"
      },
      "execution_count": null,
      "outputs": []
    },
    {
      "cell_type": "markdown",
      "source": [
        "##make a plot of your own choosing!"
      ],
      "metadata": {
        "id": "UMYZ_LxQDMG8"
      }
    },
    {
      "cell_type": "markdown",
      "source": [
        "Bar charts usually just tell you the count of some items in a dataset. While that is useful, it doesn't really say much about the distribution of those items in that dataset. That's where boxplots come in: to tell you the characteristics of data. For more information:\n",
        "\n",
        "https://www.nature.com/articles/nmeth.2807"
      ],
      "metadata": {
        "id": "T8xY8ns89hpI"
      }
    },
    {
      "cell_type": "markdown",
      "source": [
        "Below is a link to the gallery of various plots available in seaborn.\n",
        "\n",
        "https://seaborn.pydata.org/examples/index.html\n",
        "\n",
        "You have free rein to make any type of graph (that is not what we have exactly done above, obviously), between any parameters you want to compare. Make it nice to look at, and also below the plot write what relevant insight you obtained from it."
      ],
      "metadata": {
        "id": "6onzxmQuDkus"
      }
    },
    {
      "cell_type": "code",
      "source": [
        "# creativity batao"
      ],
      "metadata": {
        "id": "8lZ7WbrbDkEz"
      },
      "execution_count": null,
      "outputs": []
    },
    {
      "cell_type": "markdown",
      "source": [
        "insight yaha likho"
      ],
      "metadata": {
        "id": "qLxgKqzPTYc5"
      }
    },
    {
      "cell_type": "markdown",
      "source": [
        "#one hot encoding"
      ],
      "metadata": {
        "id": "fc5m48dMWkST"
      }
    },
    {
      "cell_type": "markdown",
      "source": [
        "Machine Learning algorithms can only crunch numbers. Give it a string or text input, and it self-annihilates by throwing an error. To handle this, we use a technique called one hot encoding. Read up on it here:\n",
        "\n",
        "https://datagy.io/pandas-get-dummies/\n",
        "\n",
        "Then, apply it to the column titled \"Sex.\""
      ],
      "metadata": {
        "id": "awF6yCWxXGDJ"
      }
    },
    {
      "cell_type": "code",
      "source": [
        "# write code here"
      ],
      "metadata": {
        "id": "pALMgRtPXysz"
      },
      "execution_count": null,
      "outputs": []
    },
    {
      "cell_type": "markdown",
      "source": [
        "If correctly implemented, you will observe three new columns are added, namely, \"Sex_F\", \"Sex_I\" and \"Sex_M.\" The old \"Sex\" column is now gone."
      ],
      "metadata": {
        "id": "NQvibNzWYUKF"
      }
    },
    {
      "cell_type": "markdown",
      "source": [
        "#normalisation and standardisation"
      ],
      "metadata": {
        "id": "4w5Ss5UXTtT8"
      }
    },
    {
      "cell_type": "markdown",
      "source": [
        "To prevent some data features from dominating the model training process, we implement the above two feature scaling techniques."
      ],
      "metadata": {
        "id": "NTZGTA_zWxDC"
      }
    },
    {
      "cell_type": "markdown",
      "source": [
        "Go through the below resource:\n",
        "\n",
        "https://www.analyticsvidhya.com/blog/2020/04/feature-scaling-machine-learning-normalization-standardization/"
      ],
      "metadata": {
        "id": "OWZkOtGOTxIx"
      }
    },
    {
      "cell_type": "markdown",
      "source": [
        "Normalise the dataset."
      ],
      "metadata": {
        "id": "DjhPYc3DVvZK"
      }
    },
    {
      "cell_type": "code",
      "source": [
        "# plot the graph here"
      ],
      "metadata": {
        "id": "RVHpmBEqVuoi"
      },
      "execution_count": null,
      "outputs": []
    },
    {
      "cell_type": "markdown",
      "source": [
        "For standardisation, bear in mind that the one hot encoded columns are not standardised. They are categorical in nature, so it makes no sense to shoehorn them into any type of distribution at all.\n",
        "\n",
        "But, its ok to normalise them, as it will be scaled down to values between 0 and 1, which is the range in which they already exist anyways. Normalisation doesn't affect them."
      ],
      "metadata": {
        "id": "sx1SHNW5Z-PR"
      }
    },
    {
      "cell_type": "code",
      "source": [
        "df_std = pd.read_csv(\"crab-e diem. im sorry, couldn't resist. insert appropriate path here.\")\n",
        "# one hot encode the Sex column before running the next cell"
      ],
      "metadata": {
        "id": "bKS68cnxbTK6"
      },
      "execution_count": null,
      "outputs": []
    },
    {
      "cell_type": "markdown",
      "source": [
        "Standardise df_std such that the one hot label encoded columns aren't affected."
      ],
      "metadata": {
        "id": "uuE-EjCoeo88"
      }
    },
    {
      "cell_type": "code",
      "source": [
        "# write code here"
      ],
      "metadata": {
        "id": "hfJIvTEcZ72W"
      },
      "execution_count": null,
      "outputs": []
    },
    {
      "cell_type": "markdown",
      "source": [
        "#**Research Task: You must research on Box plots**.\n",
        "Write code to make a useful, attractive looking box plot, and explain what information you got from it.\n",
        "\n",
        "You must also explain all the parts of a Box plot, and why it is used.\n",
        "\n",
        "The best research may be edited and featured on the Synapse Instagram and LinkedIn pages. You can contact us for any doubts regarding this as well! Happy coding :)"
      ],
      "metadata": {
        "id": "paHIWttgczcR"
      }
    },
    {
      "cell_type": "markdown",
      "source": [
        "Some help:\n",
        "\n",
        "https://www.youtube.com/watch?v=Vo-bfTqEFQk\n",
        "\n",
        "https://builtin.com/data-science/boxplot\n",
        "\n"
      ],
      "metadata": {
        "id": "ORZ4MmW-52gY"
      }
    }
  ]
}